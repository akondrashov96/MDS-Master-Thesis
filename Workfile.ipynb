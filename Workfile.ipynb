{
 "cells": [
  {
   "cell_type": "markdown",
   "metadata": {},
   "source": [
    "# Код работы"
   ]
  },
  {
   "cell_type": "markdown",
   "metadata": {},
   "source": [
    "## Загрузка модулей"
   ]
  },
  {
   "cell_type": "code",
   "execution_count": 1,
   "metadata": {},
   "outputs": [
    {
     "name": "stderr",
     "output_type": "stream",
     "text": [
      "c:\\Users\\Artem Kondrashov\\AppData\\Local\\Programs\\Python\\Python311\\Lib\\site-packages\\torch\\_utils.py:314: UserWarning: TypedStorage is deprecated. It will be removed in the future and UntypedStorage will be the only storage class. This should only matter to you if you are using storages directly.  To access UntypedStorage directly, use tensor.untyped_storage() instead of tensor.storage()\n",
      "  device=storage.device,\n"
     ]
    }
   ],
   "source": [
    "import pandas as pd\n",
    "import numpy as np\n",
    "import os\n",
    "import re\n",
    "from datetime import datetime\n",
    "import locale\n",
    "import pymorphy3\n",
    "from openpyxl import Workbook, load_workbook\n",
    "from openpyxl.utils.dataframe import dataframe_to_rows\n",
    "from copy import copy\n",
    "\n",
    "import src.spellcheck\n",
    "from src.dircheck import get_new_file_names\n",
    "from src.processor import *"
   ]
  },
  {
   "cell_type": "code",
   "execution_count": 2,
   "metadata": {},
   "outputs": [
    {
     "data": {
      "text/plain": [
       "'ru_RU'"
      ]
     },
     "execution_count": 2,
     "metadata": {},
     "output_type": "execute_result"
    }
   ],
   "source": [
    "locale.setlocale(locale.LC_ALL, 'ru_RU')"
   ]
  },
  {
   "cell_type": "markdown",
   "metadata": {},
   "source": [
    "## Общие настройки"
   ]
  },
  {
   "cell_type": "code",
   "execution_count": null,
   "metadata": {},
   "outputs": [],
   "source": [
    "f_list = get_new_file_names(\"data/raw\", \"data/processed\")\n",
    "f_list"
   ]
  },
  {
   "cell_type": "markdown",
   "metadata": {},
   "source": [
    "## Лист 1"
   ]
  },
  {
   "cell_type": "code",
   "execution_count": null,
   "metadata": {},
   "outputs": [],
   "source": [
    "f_list[1]"
   ]
  },
  {
   "cell_type": "code",
   "execution_count": null,
   "metadata": {},
   "outputs": [],
   "source": [
    "data_sheets = [pd.read_excel(\"data/raw/\" + f_list[1], \n",
    "                             sheet_name=sheet_index) for sheet_index in range(4)]"
   ]
  },
  {
   "cell_type": "code",
   "execution_count": null,
   "metadata": {},
   "outputs": [],
   "source": [
    "data_sheets[0].columns = [\"Вопрос\", \"Ответ\"]\n",
    "data_sheets[0] = data_sheets[0][2:].dropna(subset = [\"Вопрос\"]).reset_index(drop = True)"
   ]
  },
  {
   "cell_type": "code",
   "execution_count": null,
   "metadata": {},
   "outputs": [],
   "source": [
    "data_sheets_0_1 = data_sheets[0][:3].reset_index(drop = True)\n",
    "data_sheets_0_1"
   ]
  },
  {
   "cell_type": "code",
   "execution_count": null,
   "metadata": {},
   "outputs": [],
   "source": [
    "data_sheets_0_2 = data_sheets[0][3:].reset_index(drop = True)\n",
    "data_sheets_0_2"
   ]
  },
  {
   "cell_type": "markdown",
   "metadata": {},
   "source": [
    "### Тесты функций"
   ]
  },
  {
   "cell_type": "markdown",
   "metadata": {},
   "source": [
    "Угадывание и исправление даты"
   ]
  },
  {
   "cell_type": "code",
   "execution_count": null,
   "metadata": {},
   "outputs": [],
   "source": [
    "date_guesser_corrector(\"1966, 09 08\")"
   ]
  },
  {
   "cell_type": "markdown",
   "metadata": {},
   "source": [
    "## Лист 2"
   ]
  },
  {
   "cell_type": "code",
   "execution_count": null,
   "metadata": {},
   "outputs": [],
   "source": [
    "data_sheets[1].columns = [\"Месяц и год поступления\", \n",
    "                          \"Месяц и год увольнения\",\n",
    "                          \"Должность с указанием наименования организации\",\n",
    "                          \"Адрес организации\"]\n",
    "\n",
    "data_sheets[1] = data_sheets[1][2:].dropna().reset_index(drop = True)\n",
    "data_sheets[1]"
   ]
  },
  {
   "cell_type": "code",
   "execution_count": null,
   "metadata": {},
   "outputs": [],
   "source": [
    "datevec = data_sheets[1][\"Месяц и год поступления\"].to_numpy()\n",
    "datevec"
   ]
  },
  {
   "cell_type": "code",
   "execution_count": null,
   "metadata": {},
   "outputs": [],
   "source": [
    "datevec = data_sheets[1][\"Месяц и год увольнения\"].to_numpy()\n",
    "datevec"
   ]
  },
  {
   "cell_type": "code",
   "execution_count": null,
   "metadata": {},
   "outputs": [],
   "source": [
    "data_sheets[1][\"Месяц и год поступления\"].map(correct_date_condition2)"
   ]
  },
  {
   "cell_type": "code",
   "execution_count": null,
   "metadata": {},
   "outputs": [],
   "source": [
    "data_sheets[1][\"Месяц и год увольнения\"].map(correct_date_condition2)"
   ]
  },
  {
   "cell_type": "markdown",
   "metadata": {},
   "source": [
    "## Лист 3"
   ]
  },
  {
   "cell_type": "code",
   "execution_count": null,
   "metadata": {},
   "outputs": [],
   "source": [
    "data_sheets[2].columns = [\"Степень родства\", \n",
    "                          \"Фамилия, имя и отчество\",\n",
    "                          \"Число, месяц, год и место рождения, гражданство\",\n",
    "                          \"Место работы, должность\",\n",
    "                          \"Адрес места жительства\"]\n",
    "\n",
    "data_sheets[2] = data_sheets[2][1:].dropna().reset_index(drop = True)\n",
    "data_sheets[2]"
   ]
  },
  {
   "cell_type": "code",
   "execution_count": null,
   "metadata": {},
   "outputs": [],
   "source": [
    "data_sheets[2]['Степень родства'].map(only_cyrillic)"
   ]
  },
  {
   "cell_type": "markdown",
   "metadata": {},
   "source": [
    "! Для проверки условия 3.2 лучше использовать NER нейросеть."
   ]
  },
  {
   "cell_type": "code",
   "execution_count": null,
   "metadata": {},
   "outputs": [],
   "source": [
    "data_sheets[2][\"Фамилия, имя и отчество\"]"
   ]
  },
  {
   "cell_type": "code",
   "execution_count": null,
   "metadata": {},
   "outputs": [],
   "source": [
    "data_sheets[2][\"Фамилия, имя и отчество\"].map(last_surnames)"
   ]
  },
  {
   "cell_type": "code",
   "execution_count": null,
   "metadata": {},
   "outputs": [],
   "source": [
    "data_sheets[2][\"Адрес места жительства\"]"
   ]
  },
  {
   "cell_type": "code",
   "execution_count": null,
   "metadata": {},
   "outputs": [],
   "source": [
    "text = data_sheets[2][\"Адрес места жительства\"][0]\n",
    "text"
   ]
  },
  {
   "cell_type": "code",
   "execution_count": null,
   "metadata": {},
   "outputs": [],
   "source": [
    "# adr = \"г. Салават, ул. Калинина, д. 48, кв. 71, Республика Башкортостан\"\n",
    "adr = \"гор. Хабаровск, ул. Ленина, д. 32, Хабаровский край\"\n",
    "sort_address(adr)"
   ]
  },
  {
   "cell_type": "code",
   "execution_count": null,
   "metadata": {},
   "outputs": [],
   "source": [
    "data_sheets[2][\"Адрес места жительства\"].map(sort_address)"
   ]
  },
  {
   "cell_type": "markdown",
   "metadata": {},
   "source": [
    "## Лист 4"
   ]
  },
  {
   "cell_type": "code",
   "execution_count": null,
   "metadata": {},
   "outputs": [],
   "source": [
    "data_sheets[3]"
   ]
  },
  {
   "cell_type": "code",
   "execution_count": null,
   "metadata": {},
   "outputs": [],
   "source": [
    "data_sheets_3_1 = data_sheets[3][2:5].dropna(how=\"all\")\n",
    "\n",
    "data_sheets_3_1.columns = [\"Степень родства\", \n",
    "                          \"Фамилия, имя и отчество\",\n",
    "                          \"Где проживает и период проживания за границей\"]\n",
    "\n",
    "data_sheets_3_1"
   ]
  },
  {
   "cell_type": "code",
   "execution_count": null,
   "metadata": {},
   "outputs": [],
   "source": [
    "stop_idx = data_sheets[3][data_sheets[3].iloc[:, 0].str.contains(\"Дополнительные сведения\", na=False)].index[0]\n",
    "data_sheets_3_2 = data_sheets[3][7:stop_idx].dropna(how=\"all\")\n",
    "\n",
    "data_sheets_3_2.columns = [\"Период проживания начало\", \n",
    "                          \"Период проживания конец\",\n",
    "                          \"Адрес проживания и регистрации\"]\n",
    "\n",
    "data_sheets_3_2"
   ]
  },
  {
   "cell_type": "markdown",
   "metadata": {},
   "source": [
    "# Запись в Excel"
   ]
  },
  {
   "cell_type": "code",
   "execution_count": null,
   "metadata": {},
   "outputs": [],
   "source": [
    "pd_list = [data_sheets_0_1, data_sheets_0_2, data_sheets[1], data_sheets[2], data_sheets_3_1, data_sheets_3_2]"
   ]
  },
  {
   "cell_type": "code",
   "execution_count": null,
   "metadata": {},
   "outputs": [],
   "source": [
    "data_sheets[2]"
   ]
  },
  {
   "cell_type": "code",
   "execution_count": null,
   "metadata": {},
   "outputs": [],
   "source": [
    "lists[0][[\"Ответ\"]]"
   ]
  },
  {
   "cell_type": "code",
   "execution_count": null,
   "metadata": {},
   "outputs": [],
   "source": [
    "def save_to_excel(df_list: list, filename: str):\n",
    "\n",
    "    template_file = \"templates/form4.template.xlsx\"\n",
    "    output_file = \"data/processed/\" + filename.replace(\".xlsx\", \"\") + \"_check.xlsx\"\n",
    "\n",
    "    wb = load_workbook(template_file)\n",
    "\n",
    "    # Запись первого листа\n",
    "    ws = wb['Лист1']\n",
    "\n",
    "    # Часть ФИО\n",
    "    rows = dataframe_to_rows(df_list[0][[\"Ответ\"]], index=False, header=False)\n",
    "\n",
    "    for r_idx, row in enumerate(rows, 1):\n",
    "        for c_idx, value in enumerate(row, 1):\n",
    "            ws.cell(row=r_idx+3, column=c_idx+1, value=value)\n",
    "\n",
    "    # Часть ответа на вопросы\n",
    "    rows = dataframe_to_rows(df_list[1][[\"Ответ\"]], index=False, header=False)\n",
    "\n",
    "    for r_idx, row in enumerate(rows, 1):\n",
    "        for c_idx, value in enumerate(row, 1):\n",
    "            ws.cell(row=r_idx+7, column=c_idx+1, value=value)\n",
    "\n",
    "    # Запись второго листа\n",
    "    ws = wb['Лист2']\n",
    "\n",
    "    rows = dataframe_to_rows(df_list[2], index=False, header=False)\n",
    "\n",
    "    for r_idx, row in enumerate(rows, 1):\n",
    "        for c_idx, value in enumerate(row, 1):\n",
    "            ws.cell(row=r_idx+3, column=c_idx, value=value)\n",
    "\n",
    "    # Запись третьего листа\n",
    "    ws = wb['Лист3']\n",
    "\n",
    "    rows = dataframe_to_rows(df_list[3], index=False, header=False)\n",
    "\n",
    "    for r_idx, row in enumerate(rows, 1):\n",
    "        for c_idx, value in enumerate(row, 1):\n",
    "            ws.cell(row=r_idx+2, column=c_idx, value=value)\n",
    "\n",
    "    # Запись четвертого листа\n",
    "    ws = wb['Лист4']\n",
    "\n",
    "    # определение количества строк в п. 17 - добавление строк при необходимости\n",
    "    if len(df_list[5]) > 11:\n",
    "        rows_to_add2 = len(df_list[5]) - 11\n",
    "        ws.insert_rows(20, rows_to_add2)\n",
    "    else:\n",
    "        rows_to_add2 = 0\n",
    "\n",
    "    # определение количества строк в п. 16 - добавление строк при необходимости\n",
    "    if len(df_list[4]) > 4:\n",
    "        rows_to_add1 = len(df_list[4]) - 4\n",
    "        ws.insert_rows(7, rows_to_add1)\n",
    "    else:\n",
    "        rows_to_add1 = 0\n",
    "\n",
    "    # сохранение стиля ячейки\n",
    "    cellstyle = {\"fill\": copy(ws.cell(4, 1).fill), \n",
    "                \"font\": copy(ws.cell(4, 1).font), \n",
    "                \"number_format\": copy(ws.cell(4, 1).number_format), \n",
    "                \"border\": copy(ws.cell(4, 1).border)}\n",
    "\n",
    "    # запись п. 16\n",
    "    rows = dataframe_to_rows(df_list[4], index=False, header=False)\n",
    "\n",
    "    for r_idx, row in enumerate(rows, 1):\n",
    "        for c_idx, value in enumerate(row, 1):\n",
    "\n",
    "            # print(r_idx)\n",
    "\n",
    "            ws.cell(row=r_idx+3, column=c_idx).value = value\n",
    "            ws.cell(row=r_idx+3, column=c_idx).fill = (cellstyle['fill'])\n",
    "            ws.cell(row=r_idx+3, column=c_idx).font = (cellstyle['font'])\n",
    "            ws.cell(row=r_idx+3, column=c_idx).number_format = (cellstyle['number_format'])\n",
    "            ws.cell(row=r_idx+3, column=c_idx).border = (cellstyle['border'])\n",
    "\n",
    "    # запись п. 17\n",
    "    rows = dataframe_to_rows(df_list[5], index=False, header=False)\n",
    "\n",
    "    for r_idx, row in enumerate(rows, 1):\n",
    "        for c_idx, value in enumerate(row, 1):\n",
    "            ws.cell(row=r_idx+9+rows_to_add1, column=c_idx).value = value\n",
    "            ws.cell(row=r_idx+9+rows_to_add1, column=c_idx).fill = (cellstyle['fill'])\n",
    "            ws.cell(row=r_idx+9+rows_to_add1, column=c_idx).font = (cellstyle['font'])\n",
    "            ws.cell(row=r_idx+9+rows_to_add1, column=c_idx).number_format = (cellstyle['number_format'])\n",
    "            ws.cell(row=r_idx+9+rows_to_add1, column=c_idx).border = (cellstyle['border'])\n",
    "\n",
    "    wb.save(output_file)\n",
    "    wb.close()\n",
    "\n"
   ]
  },
  {
   "cell_type": "code",
   "execution_count": null,
   "metadata": {},
   "outputs": [],
   "source": [
    "f_list[1]"
   ]
  },
  {
   "cell_type": "code",
   "execution_count": null,
   "metadata": {},
   "outputs": [],
   "source": [
    "save_to_excel(pd_list, f_list[1])"
   ]
  },
  {
   "cell_type": "markdown",
   "metadata": {},
   "source": [
    "# Общий цикл"
   ]
  },
  {
   "cell_type": "code",
   "execution_count": 3,
   "metadata": {},
   "outputs": [
    {
     "data": {
      "text/plain": [
       "['Анкета_Макаров С.Н._18122023234522.xlsx',\n",
       " 'Анкета_Алексеев О.Я._17012024235530.xlsx']"
      ]
     },
     "execution_count": 3,
     "metadata": {},
     "output_type": "execute_result"
    }
   ],
   "source": [
    "f_list = get_new_file_names(\"data/raw\", \"data/processed\")\n",
    "f_list"
   ]
  },
  {
   "cell_type": "code",
   "execution_count": 4,
   "metadata": {},
   "outputs": [
    {
     "name": "stdout",
     "output_type": "stream",
     "text": [
      "Обработка документа Анкета_Алексеев О.Я._17012024235530.xlsx\n",
      "Анкета_Алексеев О.Я._17012024235530.xlsx: Листы считаны\n",
      "Анкета_Алексеев О.Я._17012024235530.xlsx: Обработка первого листа\n",
      "Проверка орфографии... Лист 1\n",
      "Анкета_Алексеев О.Я._17012024235530.xlsx: Лист 1: орфография проверена\n",
      "Анкета_Алексеев О.Я._17012024235530.xlsx: Лист 1: Условие 1 исправлено\n",
      "Обработка листа 1 завершена\n",
      "Анкета_Алексеев О.Я._17012024235530.xlsx: Обработка второго листа\n",
      "Анкета_Алексеев О.Я._17012024235530.xlsx: Лист 2: Условие 2 исправлено\n",
      "Проверка орфографии Лист 2...\n"
     ]
    },
    {
     "name": "stderr",
     "output_type": "stream",
     "text": [
      "Asking to truncate to max_length but no maximum length is provided and the model has no predefined maximum length. Default to no truncation.\n"
     ]
    },
    {
     "name": "stdout",
     "output_type": "stream",
     "text": [
      "Анкета_Алексеев О.Я._17012024235530.xlsx: Лист 2: орфография проверена\n",
      "Проверка условия 4\n"
     ]
    },
    {
     "name": "stderr",
     "output_type": "stream",
     "text": [
      "Asking to truncate to max_length but no maximum length is provided and the model has no predefined maximum length. Default to no truncation.\n"
     ]
    },
    {
     "name": "stdout",
     "output_type": "stream",
     "text": [
      "Анкета_Алексеев О.Я._17012024235530.xlsx: Лист 2: Условие 4 исправлено\n",
      "Обработка листа 2 завершена\n",
      "Анкета_Алексеев О.Я._17012024235530.xlsx: Обработка третьего листа\n",
      "Проверка условия 3.1\n",
      "Анкета_Алексеев О.Я._17012024235530.xlsx: Лист 3: Условие 3.1 исправлено\n",
      "Проверка условия 3.2 (используется NER)\n",
      "Анкета_Алексеев О.Я._17012024235530.xlsx: Лист 3: Условие 3.2 исправлено\n",
      "Проверка орфографии Лист 3...\n",
      "Анкета_Алексеев О.Я._17012024235530.xlsx: Лист 3: орфография проверена\n",
      "Проверка условия 4 (тут нужен NER)\n",
      "Анкета_Алексеев О.Я._17012024235530.xlsx: Лист 3: Условие 4 исправлено\n",
      "Обработка листа 3 завершена\n",
      "Анкета_Алексеев О.Я._17012024235530.xlsx: Обработка четвертого листа\n",
      "Проверка условия 3.1\n",
      "Анкета_Алексеев О.Я._17012024235530.xlsx: Лист 4: Условие 3.1 исправлено\n",
      "Проверка условия 3.2\n",
      "Анкета_Алексеев О.Я._17012024235530.xlsx: Лист 4: Условие 3.2 исправлено\n",
      "Анкета_Алексеев О.Я._17012024235530.xlsx: Лист 4: Условие 2 исправлено\n",
      "Проверка орфографии Лист 4...\n",
      "Анкета_Алексеев О.Я._17012024235530.xlsx: Лист 4: орфография проверена\n",
      "Проверка условия 4\n",
      "Анкета_Алексеев О.Я._17012024235530.xlsx: Лист 4: Условие 4 исправлено\n",
      "Обработка листа 4 завершена\n"
     ]
    }
   ],
   "source": [
    "file_processor(f_list[1], verbose=True)"
   ]
  },
  {
   "cell_type": "code",
   "execution_count": null,
   "metadata": {},
   "outputs": [],
   "source": []
  }
 ],
 "metadata": {
  "kernelspec": {
   "display_name": "Python 3",
   "language": "python",
   "name": "python3"
  },
  "language_info": {
   "codemirror_mode": {
    "name": "ipython",
    "version": 3
   },
   "file_extension": ".py",
   "mimetype": "text/x-python",
   "name": "python",
   "nbconvert_exporter": "python",
   "pygments_lexer": "ipython3",
   "version": "3.11.4"
  }
 },
 "nbformat": 4,
 "nbformat_minor": 2
}
