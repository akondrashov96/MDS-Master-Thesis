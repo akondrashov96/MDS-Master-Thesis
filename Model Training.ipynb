{
 "cells": [
  {
   "cell_type": "code",
   "execution_count": 1,
   "metadata": {},
   "outputs": [],
   "source": [
    "import pandas as pd\n",
    "import numpy as np\n",
    "import matplotlib.pyplot as plt\n",
    "\n",
    "import random\n",
    "import time\n",
    "from tqdm import tqdm\n",
    "\n",
    "import datetime\n",
    "import os\n",
    "\n",
    "from transformers import M2M100ForConditionalGeneration, M2M100Tokenizer, \\\n",
    "    AdamW, get_linear_schedule_with_warmup, PreTrainedTokenizerFast\n",
    "\n",
    "from datasets import load_dataset\n",
    "\n",
    "import torch\n",
    "from torch.utils.data import DataLoader, TensorDataset, random_split, RandomSampler, SequentialSampler"
   ]
  },
  {
   "cell_type": "code",
   "execution_count": 2,
   "metadata": {},
   "outputs": [],
   "source": [
    "# path_to_model = \"ai-forever/RuM2M100-1.2B\" \n",
    "\n",
    "path_to_model = \"model/M2M100ForConditionalGeneration/\" \n",
    "path_to_tokenizer = \"model/M2M100Tokenizer/\""
   ]
  },
  {
   "cell_type": "code",
   "execution_count": 4,
   "metadata": {},
   "outputs": [],
   "source": [
    "model_M100_spell = M2M100ForConditionalGeneration.from_pretrained(path_to_model)\n",
    "tokenizer_M100_spell = M2M100Tokenizer.from_pretrained(path_to_tokenizer)"
   ]
  },
  {
   "cell_type": "code",
   "execution_count": null,
   "metadata": {},
   "outputs": [],
   "source": [
    "# model_M100_spell.save_pretrained(\"model/M2M100ForConditionalGeneration/\")\n",
    "# tokenizer_M100_spell.save_pretrained(\"model/M2M100Tokenizer/\")"
   ]
  },
  {
   "cell_type": "code",
   "execution_count": 7,
   "metadata": {},
   "outputs": [
    {
     "name": "stdout",
     "output_type": "stream",
     "text": [
      "Input: Основая цель мероприятия 5 орпеля 2020 - практичиская оттработка навыкоф по ока занию помощь гражданов, попавшим в ДТП, а также повышение и совершенствование уровня профессиональной подготовки сотрудников МЧС при проведении аварийно-спасательных работ по ликвидации последствий дорожно-транспортных проишествий, сокращение временной показатель реагирование.\n",
      "Output: Основная цель мероприятия 5 апреля 2020 - практическая отработка навыков по оказанию помощь гражданам, попавшим в ДТП, а также повышение и совершенствование уровня профессиональной подготовки сотрудников МЧС при проведении аварийно-спасательных работ по ликвидации последствий дорожно-транспортных происшествий, сокращение временной показатель реагирование.\n"
     ]
    }
   ],
   "source": [
    "sentence = \"Основая цель мероприятия 5 орпеля 2020 - практичиская оттработка навыкоф по ока занию помощь гражданов, попавшим в ДТП, а также повышение и совершенствование уровня профессиональной подготовки сотрудников МЧС при проведении аварийно-спасательных работ по ликвидации последствий дорожно-транспортных проишествий, сокращение временной показатель реагирование.\"\n",
    "\n",
    "print(\"Input:\", sentence)\n",
    "\n",
    "encodings = tokenizer_M100_spell(sentence, return_tensors=\"pt\")\n",
    "generated_tokens = model_M100_spell.generate(**encodings, \n",
    "                                             forced_bos_token_id=tokenizer_M100_spell.get_lang_id(\"ru\"), \n",
    "                                             max_new_tokens = 200)\n",
    "answer = tokenizer_M100_spell.batch_decode(generated_tokens, skip_special_tokens=True)\n",
    "\n",
    "print(\"Output:\", answer[0])"
   ]
  },
  {
   "cell_type": "code",
   "execution_count": null,
   "metadata": {},
   "outputs": [],
   "source": []
  }
 ],
 "metadata": {
  "kernelspec": {
   "display_name": "Python 3",
   "language": "python",
   "name": "python3"
  },
  "language_info": {
   "codemirror_mode": {
    "name": "ipython",
    "version": 3
   },
   "file_extension": ".py",
   "mimetype": "text/x-python",
   "name": "python",
   "nbconvert_exporter": "python",
   "pygments_lexer": "ipython3",
   "version": "3.11.4"
  }
 },
 "nbformat": 4,
 "nbformat_minor": 2
}
