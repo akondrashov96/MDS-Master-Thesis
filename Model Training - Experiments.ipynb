{
 "cells": [
  {
   "cell_type": "markdown",
   "metadata": {},
   "source": [
    "# Обучение нейросетевых моделей"
   ]
  },
  {
   "cell_type": "markdown",
   "metadata": {},
   "source": [
    "В этом файле мы обучаем модели глубокого обучения для 2-х NER (Named Entity Recognition) задач:\n",
    "\n",
    " - Разбивку имени на составляющие (Фамилия, имя, отчество) - используем в качестве основы модель Bert-base\n",
    " - Разбивку адреса на составляющие (регион, район, город, ...) - используем в качестве основы модель rubert-base-cased\n",
    "\n",
    "Обе модели тонко настраиваются на специаально сгенерированных наборах данных. Генераторы наборов данных описаны в jupyter-ноутбуке Data Parser.\n",
    "\n",
    "А также загружаем модель M2M100 для исправления ошибок. Так как полноценное обучение и даже тонкая настройка данной модели представляет некоторую сложность, было принято решение провести квантизацию данной модели."
   ]
  },
  {
   "cell_type": "markdown",
   "metadata": {},
   "source": [
    "## Модули"
   ]
  },
  {
   "cell_type": "code",
   "execution_count": 65,
   "metadata": {},
   "outputs": [],
   "source": [
    "import pandas as pd\n",
    "import numpy as np\n",
    "import matplotlib.pyplot as plt\n",
    "\n",
    "import random\n",
    "import time\n",
    "from tqdm.auto import tqdm\n",
    "\n",
    "import datetime\n",
    "import os\n",
    "import re\n",
    "\n",
    "from transformers import M2M100ForConditionalGeneration, M2M100Tokenizer, AutoModelForTokenClassification, AutoTokenizer, \\\n",
    "    pipeline, DataCollatorForTokenClassification, get_scheduler\n",
    "\n",
    "from accelerate import Accelerator\n",
    "\n",
    "import torch\n",
    "from torch.optim import AdamW\n",
    "from datasets import Dataset, DatasetDict\n",
    "from torch.utils.data import DataLoader\n",
    "\n",
    "import evaluate"
   ]
  },
  {
   "cell_type": "code",
   "execution_count": 2,
   "metadata": {},
   "outputs": [],
   "source": [
    "np.random.seed(42)"
   ]
  },
  {
   "cell_type": "markdown",
   "metadata": {},
   "source": [
    "## Исправление орфографии"
   ]
  },
  {
   "cell_type": "markdown",
   "metadata": {},
   "source": [
    "### Квантизация модели"
   ]
  },
  {
   "cell_type": "markdown",
   "metadata": {},
   "source": [
    "Так как базовая модель занимает достаточно много места (около 4.3 ГБ), мы можем провести квантизацию модели, чтобы уменьшить её размер на диске.  \n",
    "\n",
    "В целом, квантизация модели не должна приводить к значимой потери качества её предсказаний."
   ]
  },
  {
   "cell_type": "code",
   "execution_count": 3,
   "metadata": {},
   "outputs": [],
   "source": [
    "# path_to_model = \"ai-forever/RuM2M100-1.2B\" \n",
    "\n",
    "path_to_model = \"model/M2M100ForConditionalGeneration/\" \n",
    "path_to_tokenizer = \"model/M2M100Tokenizer/\""
   ]
  },
  {
   "cell_type": "code",
   "execution_count": 4,
   "metadata": {},
   "outputs": [],
   "source": [
    "model_M100_spell = M2M100ForConditionalGeneration.from_pretrained(path_to_model)\n",
    "tokenizer_M100_spell = M2M100Tokenizer.from_pretrained(path_to_tokenizer)"
   ]
  },
  {
   "cell_type": "code",
   "execution_count": 5,
   "metadata": {},
   "outputs": [],
   "source": [
    "# model_M100_spell.save_pretrained(\"model/M2M100ForConditionalGeneration/\")\n",
    "# tokenizer_M100_spell.save_pretrained(\"model/M2M100Tokenizer/\")"
   ]
  },
  {
   "cell_type": "code",
   "execution_count": 6,
   "metadata": {},
   "outputs": [],
   "source": [
    "def calc_size(model):\n",
    "\n",
    "    '''\n",
    "    Calculates size of the model\n",
    "    '''\n",
    "    \n",
    "    torch.save(model.state_dict(), \"./tmp/model.p\")\n",
    "    size=os.path.getsize(\"./tmp/model.p\")\n",
    "    os.remove('./tmp/model.p')\n",
    "    return \"{:.3f} KB\".format(size / 1024)"
   ]
  },
  {
   "cell_type": "code",
   "execution_count": 7,
   "metadata": {},
   "outputs": [
    {
     "data": {
      "text/plain": [
       "'4386893.908 KB'"
      ]
     },
     "execution_count": 7,
     "metadata": {},
     "output_type": "execute_result"
    }
   ],
   "source": [
    "calc_size(model_M100_spell)"
   ]
  },
  {
   "cell_type": "code",
   "execution_count": 8,
   "metadata": {},
   "outputs": [],
   "source": [
    "quantized_model = torch.quantization.quantize_dynamic(model_M100_spell, {torch.nn.Linear}, dtype=torch.qint8)"
   ]
  },
  {
   "cell_type": "code",
   "execution_count": 9,
   "metadata": {},
   "outputs": [
    {
     "data": {
      "text/plain": [
       "'1157517.419 KB'"
      ]
     },
     "execution_count": 9,
     "metadata": {},
     "output_type": "execute_result"
    }
   ],
   "source": [
    "calc_size(quantized_model)"
   ]
  },
  {
   "cell_type": "markdown",
   "metadata": {},
   "source": [
    "Модель достаточно сильно сжалась - примерно в 4 раза!"
   ]
  },
  {
   "cell_type": "code",
   "execution_count": 10,
   "metadata": {},
   "outputs": [
    {
     "data": {
      "text/plain": [
       "('model/M2M100_tokenizer/tokenizer_config.json',\n",
       " 'model/M2M100_tokenizer/special_tokens_map.json',\n",
       " 'model\\\\M2M100_tokenizer\\\\vocab.json',\n",
       " 'model\\\\M2M100_tokenizer\\\\sentencepiece.bpe.model',\n",
       " 'model/M2M100_tokenizer/added_tokens.json')"
      ]
     },
     "execution_count": 10,
     "metadata": {},
     "output_type": "execute_result"
    }
   ],
   "source": [
    "torch.save(quantized_model, \"model/M2M100_spellchecker/quantized_model.pt\")\n",
    "tokenizer_M100_spell.save_pretrained(\"model/M2M100_tokenizer/\")"
   ]
  },
  {
   "cell_type": "markdown",
   "metadata": {},
   "source": [
    "### Тест"
   ]
  },
  {
   "cell_type": "markdown",
   "metadata": {},
   "source": [
    "Проверим, что квантизованная модель приемлемо работает на наборе данных из формы и нескольких произвольных примерах."
   ]
  },
  {
   "cell_type": "code",
   "execution_count": 11,
   "metadata": {},
   "outputs": [
    {
     "name": "stderr",
     "output_type": "stream",
     "text": [
      "c:\\Users\\Artem Kondrashov\\AppData\\Local\\Programs\\Python\\Python311\\Lib\\site-packages\\torch\\_utils.py:314: UserWarning: TypedStorage is deprecated. It will be removed in the future and UntypedStorage will be the only storage class. This should only matter to you if you are using storages directly.  To access UntypedStorage directly, use tensor.untyped_storage() instead of tensor.storage()\n",
      "  device=storage.device,\n"
     ]
    },
    {
     "data": {
      "text/plain": [
       "M2M100ForConditionalGeneration(\n",
       "  (model): M2M100Model(\n",
       "    (shared): Embedding(14341, 1024, padding_idx=1)\n",
       "    (encoder): M2M100Encoder(\n",
       "      (embed_tokens): Embedding(14341, 1024, padding_idx=1)\n",
       "      (embed_positions): M2M100SinusoidalPositionalEmbedding()\n",
       "      (layers): ModuleList(\n",
       "        (0-23): 24 x M2M100EncoderLayer(\n",
       "          (self_attn): M2M100Attention(\n",
       "            (k_proj): DynamicQuantizedLinear(in_features=1024, out_features=1024, dtype=torch.qint8, qscheme=torch.per_tensor_affine)\n",
       "            (v_proj): DynamicQuantizedLinear(in_features=1024, out_features=1024, dtype=torch.qint8, qscheme=torch.per_tensor_affine)\n",
       "            (q_proj): DynamicQuantizedLinear(in_features=1024, out_features=1024, dtype=torch.qint8, qscheme=torch.per_tensor_affine)\n",
       "            (out_proj): DynamicQuantizedLinear(in_features=1024, out_features=1024, dtype=torch.qint8, qscheme=torch.per_tensor_affine)\n",
       "          )\n",
       "          (self_attn_layer_norm): LayerNorm((1024,), eps=1e-05, elementwise_affine=True)\n",
       "          (activation_fn): ReLU()\n",
       "          (fc1): DynamicQuantizedLinear(in_features=1024, out_features=8192, dtype=torch.qint8, qscheme=torch.per_tensor_affine)\n",
       "          (fc2): DynamicQuantizedLinear(in_features=8192, out_features=1024, dtype=torch.qint8, qscheme=torch.per_tensor_affine)\n",
       "          (final_layer_norm): LayerNorm((1024,), eps=1e-05, elementwise_affine=True)\n",
       "        )\n",
       "      )\n",
       "      (layer_norm): LayerNorm((1024,), eps=1e-05, elementwise_affine=True)\n",
       "    )\n",
       "    (decoder): M2M100Decoder(\n",
       "      (embed_tokens): Embedding(14341, 1024, padding_idx=1)\n",
       "      (embed_positions): M2M100SinusoidalPositionalEmbedding()\n",
       "      (layers): ModuleList(\n",
       "        (0-23): 24 x M2M100DecoderLayer(\n",
       "          (self_attn): M2M100Attention(\n",
       "            (k_proj): DynamicQuantizedLinear(in_features=1024, out_features=1024, dtype=torch.qint8, qscheme=torch.per_tensor_affine)\n",
       "            (v_proj): DynamicQuantizedLinear(in_features=1024, out_features=1024, dtype=torch.qint8, qscheme=torch.per_tensor_affine)\n",
       "            (q_proj): DynamicQuantizedLinear(in_features=1024, out_features=1024, dtype=torch.qint8, qscheme=torch.per_tensor_affine)\n",
       "            (out_proj): DynamicQuantizedLinear(in_features=1024, out_features=1024, dtype=torch.qint8, qscheme=torch.per_tensor_affine)\n",
       "          )\n",
       "          (activation_fn): ReLU()\n",
       "          (self_attn_layer_norm): LayerNorm((1024,), eps=1e-05, elementwise_affine=True)\n",
       "          (encoder_attn): M2M100Attention(\n",
       "            (k_proj): DynamicQuantizedLinear(in_features=1024, out_features=1024, dtype=torch.qint8, qscheme=torch.per_tensor_affine)\n",
       "            (v_proj): DynamicQuantizedLinear(in_features=1024, out_features=1024, dtype=torch.qint8, qscheme=torch.per_tensor_affine)\n",
       "            (q_proj): DynamicQuantizedLinear(in_features=1024, out_features=1024, dtype=torch.qint8, qscheme=torch.per_tensor_affine)\n",
       "            (out_proj): DynamicQuantizedLinear(in_features=1024, out_features=1024, dtype=torch.qint8, qscheme=torch.per_tensor_affine)\n",
       "          )\n",
       "          (encoder_attn_layer_norm): LayerNorm((1024,), eps=1e-05, elementwise_affine=True)\n",
       "          (fc1): DynamicQuantizedLinear(in_features=1024, out_features=8192, dtype=torch.qint8, qscheme=torch.per_tensor_affine)\n",
       "          (fc2): DynamicQuantizedLinear(in_features=8192, out_features=1024, dtype=torch.qint8, qscheme=torch.per_tensor_affine)\n",
       "          (final_layer_norm): LayerNorm((1024,), eps=1e-05, elementwise_affine=True)\n",
       "        )\n",
       "      )\n",
       "      (layer_norm): LayerNorm((1024,), eps=1e-05, elementwise_affine=True)\n",
       "    )\n",
       "  )\n",
       "  (lm_head): DynamicQuantizedLinear(in_features=1024, out_features=14341, dtype=torch.qint8, qscheme=torch.per_tensor_affine)\n",
       ")"
      ]
     },
     "execution_count": 11,
     "metadata": {},
     "output_type": "execute_result"
    }
   ],
   "source": [
    "model_M100_spell = torch.load(\"model/M2M100_spellchecker/quantized_model.pt\")\n",
    "model_M100_spell.eval()"
   ]
  },
  {
   "cell_type": "code",
   "execution_count": 12,
   "metadata": {},
   "outputs": [],
   "source": [
    "path_to_tokenizer = \"model/M2M100_tokenizer/\"\n",
    "tokenizer_M100_spell = M2M100Tokenizer.from_pretrained(path_to_tokenizer)"
   ]
  },
  {
   "cell_type": "code",
   "execution_count": 13,
   "metadata": {},
   "outputs": [],
   "source": [
    "def correct_errors(sentence_in: str) -> str:\n",
    "\n",
    "    \"\"\"\n",
    "    Функция для исправления орфографии в модели \n",
    "\n",
    "    Параметры:\n",
    "    sentence_in : str\n",
    "        Предложение с (возможно) орфографическими ошибками\n",
    "\n",
    "    Возвращает:\n",
    "    answer : str\n",
    "        Предложение, очищенное от ошибок\n",
    "    \"\"\"\n",
    "\n",
    "    encodings = tokenizer_M100_spell(sentence_in, return_tensors=\"pt\")\n",
    "\n",
    "    generated_tokens = model_M100_spell.generate(**encodings, \n",
    "                                                 forced_bos_token_id=tokenizer_M100_spell.get_lang_id(\"ru\"), \n",
    "                                                 max_new_tokens = 200)\n",
    "    \n",
    "    answer = tokenizer_M100_spell.batch_decode(generated_tokens, skip_special_tokens=True)\n",
    "    \n",
    "    answer = re.sub('[a-zA-Z]+', '', answer[0]).strip()\n",
    "\n",
    "    return answer"
   ]
  },
  {
   "cell_type": "code",
   "execution_count": 14,
   "metadata": {},
   "outputs": [
    {
     "name": "stdout",
     "output_type": "stream",
     "text": [
      "Input: Основая цель мероприятия 5 орпеля 2020 - практичиская оттработка навыкоф по ока занию помощь гражданов, попавшим в ДТП, а также повышение и совершенствование уровня профессиональной подготовки сотрудников МЧС при проведении аварийно-спасательных работ по ликвидации последствий дорожно-транспортных проишествий, сокращение временной показатель реагирование.\n"
     ]
    },
    {
     "name": "stdout",
     "output_type": "stream",
     "text": [
      "Output: ная цель мероприятия 5 апреля 2020 - практическая отработка навыков по оказанию помощь гражданам, попавшим в ДТП, а также повышение и совершенствование уровня профессиональной подготовки сотрудников МЧС при проведении аварийно-спасательных работ по ликвидации последствий дорожно-транспортных происшествий, сокращение временной показатель реагирование.\n"
     ]
    }
   ],
   "source": [
    "sentence = \"Основая цель мероприятия 5 орпеля 2020 - практичиская оттработка навыкоф по ока занию помощь гражданов, попавшим в ДТП, а также повышение и совершенствование уровня профессиональной подготовки сотрудников МЧС при проведении аварийно-спасательных работ по ликвидации последствий дорожно-транспортных проишествий, сокращение временной показатель реагирование.\"\n",
    "\n",
    "print(\"Input:\", sentence)\n",
    "print(\"Output:\", correct_errors(sentence_in=sentence))"
   ]
  },
  {
   "cell_type": "code",
   "execution_count": 15,
   "metadata": {},
   "outputs": [
    {
     "name": "stdout",
     "output_type": "stream",
     "text": [
      "Input: Фомилию, имя, отчество не изменял\n",
      "Output: Фамилию, имя, отчество не изменял\n"
     ]
    }
   ],
   "source": [
    "sentence = \"Фомилию, имя, отчество не изменял\"\n",
    "\n",
    "print(\"Input:\", sentence)\n",
    "print(\"Output:\", correct_errors(sentence_in=sentence))"
   ]
  },
  {
   "cell_type": "code",
   "execution_count": 16,
   "metadata": {},
   "outputs": [
    {
     "name": "stdout",
     "output_type": "stream",
     "text": [
      "Input: Студент, Уфимский фелеал Масковского нифтеного института им. Академика И.М. Губкина\n",
      "Output: , Уфимский филиал Московского нефтяного института им. Академика И.М. Губкина\n"
     ]
    }
   ],
   "source": [
    "sentence = \"Студент, Уфимский фелеал Масковского нифтеного института им. Академика И.М. Губкина\"\n",
    "\n",
    "print(\"Input:\", sentence)\n",
    "print(\"Output:\", correct_errors(sentence_in=sentence))"
   ]
  },
  {
   "cell_type": "code",
   "execution_count": 17,
   "metadata": {},
   "outputs": [
    {
     "name": "stdout",
     "output_type": "stream",
     "text": [
      "Input: Имею загррничный паспорт 6543217 89, ОУМС пос. Хор Хабаровского края, 04.02.2012\n",
      "Output: Имею загрничный паспорт 654321789, ОУМС пос. Хор Хабаровского края, 04.02.2012\n"
     ]
    }
   ],
   "source": [
    "sentence = \"Имею загррничный паспорт 6543217 89, ОУМС пос. Хор Хабаровского края, 04.02.2012\"\n",
    "\n",
    "print(\"Input:\", sentence)\n",
    "print(\"Output:\", correct_errors(sentence_in=sentence))"
   ]
  },
  {
   "cell_type": "code",
   "execution_count": null,
   "metadata": {},
   "outputs": [],
   "source": [
    "sentence = \"Калужская обл., г. Обнинск, ул. Гагарина, д. 5, кв.52\"\n",
    "\n",
    "print(\"Input:\", sentence)\n",
    "print(\"Output:\", correct_errors(sentence_in=sentence))"
   ]
  },
  {
   "cell_type": "markdown",
   "metadata": {},
   "source": [
    "Наблюдаются некоторые галлюционации у модели, однако в целом качество исправления опечаток приемлемо."
   ]
  },
  {
   "cell_type": "markdown",
   "metadata": {},
   "source": [
    "## NER "
   ]
  },
  {
   "cell_type": "markdown",
   "metadata": {},
   "source": [
    "### Общий раздел"
   ]
  },
  {
   "cell_type": "markdown",
   "metadata": {},
   "source": [
    "Несколько общих функций, используемых при обучении NER моделей.   \n",
    "Примеры и процедура для кода взяты отсюда: https://huggingface.co/learn/nlp-course/chapter7/2"
   ]
  },
  {
   "cell_type": "code",
   "execution_count": 3,
   "metadata": {},
   "outputs": [],
   "source": [
    "def align_labels_with_tokens(labels, word_ids, label_names):\n",
    "\n",
    "    new_labels = []\n",
    "    current_word = None\n",
    "    \n",
    "    for word_id in word_ids:\n",
    "        if word_id != current_word:\n",
    "\n",
    "            # Start of a new word!\n",
    "            current_word = word_id\n",
    "            label = -100 if word_id is None else labels[word_id]\n",
    "            new_labels.append(label)\n",
    "        \n",
    "        elif word_id is None:\n",
    "            # Special token\n",
    "            new_labels.append(-100)\n",
    "        \n",
    "        else:\n",
    "            # Same word as previous token\n",
    "            label = labels[word_id]\n",
    "            # If the label is B-XXX we change it to I-XXX\n",
    "            # if label % 2 == 1:\n",
    "            #     if label < len(label_names)-1:\n",
    "            #         label += 1\n",
    "            new_labels.append(label)\n",
    "\n",
    "    return new_labels"
   ]
  },
  {
   "cell_type": "code",
   "execution_count": 4,
   "metadata": {},
   "outputs": [],
   "source": [
    "def compute_metrics(eval_preds, label_names, metric):\n",
    "    logits, labels = eval_preds\n",
    "    predictions = np.argmax(logits, axis=-1)\n",
    "\n",
    "    # Remove ignored index (special tokens) and convert to labels\n",
    "    true_labels = [[label_names[l] for l in label if l != -100] for label in labels]\n",
    "    true_predictions = [\n",
    "        [label_names[p] for (p, l) in zip(prediction, label) if l != -100]\n",
    "        for prediction, label in zip(predictions, labels)\n",
    "    ]\n",
    "    all_metrics = metric.compute(predictions=true_predictions, references=true_labels)\n",
    "    return {\n",
    "        \"precision\": all_metrics[\"overall_precision\"],\n",
    "        \"recall\": all_metrics[\"overall_recall\"],\n",
    "        \"f1\": all_metrics[\"overall_f1\"],\n",
    "        \"accuracy\": all_metrics[\"overall_accuracy\"],\n",
    "    }"
   ]
  },
  {
   "cell_type": "code",
   "execution_count": 5,
   "metadata": {},
   "outputs": [],
   "source": [
    "def postprocess(predictions, labels, label_names):\n",
    "    \n",
    "    predictions = predictions.detach().cpu().clone().numpy()\n",
    "    labels = labels.detach().cpu().clone().numpy()\n",
    "\n",
    "    # Remove ignored index (special tokens) and convert to labels\n",
    "    true_labels = [[label_names[l] for l in label if l != -100] for label in labels]\n",
    "    true_predictions = [\n",
    "        [label_names[p] for (p, l) in zip(prediction, label) if l != -100]\n",
    "        for prediction, label in zip(predictions, labels)\n",
    "    ]\n",
    "    return true_labels, true_predictions"
   ]
  },
  {
   "cell_type": "markdown",
   "metadata": {},
   "source": [
    "### NER (для имен)"
   ]
  },
  {
   "cell_type": "markdown",
   "metadata": {},
   "source": [
    "#### Настройки"
   ]
  },
  {
   "cell_type": "markdown",
   "metadata": {},
   "source": [
    "В качестве основной модели мы используем https://huggingface.co/ai-forever/ruBert-base. Эту модель также использовали при тонкой настройке модели viktoroo/sberbank-rubert-base-collection3, которая заточена на NER задачи. Для нашего проекта мы также будем делать тонкую настройку ruBert модели, но для конкретной задачи - вычленения из имени фамилии, имени и отчества.\n",
    "\n",
    "Примеры кода и процедура взяты отсюда: https://huggingface.co/learn/nlp-course/chapter7/2"
   ]
  },
  {
   "cell_type": "code",
   "execution_count": 6,
   "metadata": {},
   "outputs": [],
   "source": [
    "# path_to_model = \"viktoroo/sberbank-rubert-base-collection3\" \n",
    "# path_to_tokenizer = \"viktoroo/sberbank-rubert-base-collection3\"\n",
    "\n",
    "# path_to_model = \"ai-forever/ruBert-base\" \n",
    "# path_to_tokenizer = \"ai-forever/ruBert-base\"\n",
    "\n",
    "# path_to_model = \"ai-forever/ruBert-large\" \n",
    "# path_to_tokenizer = \"ai-forever/ruBert-large\"\n",
    "\n",
    "# path_to_model = \"ai-forever/ruRoberta-large\" \n",
    "# path_to_tokenizer = \"ai-forever/ruRoberta-large\"\n",
    "\n",
    "path_to_model = \"DeepPavlov/rubert-base-cased\" \n",
    "path_to_tokenizer = \"DeepPavlov/rubert-base-cased\""
   ]
  },
  {
   "cell_type": "code",
   "execution_count": 7,
   "metadata": {},
   "outputs": [],
   "source": [
    "tokenizer_NER = AutoTokenizer.from_pretrained(path_to_tokenizer, use_fast=True)"
   ]
  },
  {
   "cell_type": "markdown",
   "metadata": {},
   "source": [
    "В нашем случае достаточно будет создавать только три сущности: имена, фамилии и отчества. Нулевую сущность мы можем опустить, так как в обрабатываемом документе в соответствующих ячейках всегда фигурируют только эти элементы."
   ]
  },
  {
   "cell_type": "code",
   "execution_count": 8,
   "metadata": {},
   "outputs": [],
   "source": [
    "label_names = ['PER-NAME', 'PER-SURN', 'PER-PATR']\n",
    "\n",
    "id2label = {i: label for i, label in enumerate(label_names)}\n",
    "label2id = {v: k for k, v in id2label.items()}"
   ]
  },
  {
   "cell_type": "code",
   "execution_count": 9,
   "metadata": {},
   "outputs": [],
   "source": [
    "def tokenize_and_align_labels(examples, tokenizer = tokenizer_NER):\n",
    "    tokenized_inputs = tokenizer(\n",
    "        examples[\"tokens\"], truncation=True, is_split_into_words=True\n",
    "    )\n",
    "    all_labels = examples[\"ner_tags\"]\n",
    "    new_labels = []\n",
    "    for i, labels in enumerate(all_labels):\n",
    "        word_ids = tokenized_inputs.word_ids(i)\n",
    "        new_labels.append(align_labels_with_tokens(labels, word_ids, label_names))\n",
    "\n",
    "    tokenized_inputs[\"labels\"] = new_labels\n",
    "    return tokenized_inputs"
   ]
  },
  {
   "cell_type": "code",
   "execution_count": 10,
   "metadata": {},
   "outputs": [
    {
     "name": "stderr",
     "output_type": "stream",
     "text": [
      "Some weights of BertForTokenClassification were not initialized from the model checkpoint at DeepPavlov/rubert-base-cased and are newly initialized: ['classifier.weight', 'classifier.bias']\n",
      "You should probably TRAIN this model on a down-stream task to be able to use it for predictions and inference.\n"
     ]
    }
   ],
   "source": [
    "model_NER = AutoModelForTokenClassification.from_pretrained(path_to_model,\n",
    "                                                               id2label=id2label,\n",
    "                                                               label2id=label2id)"
   ]
  },
  {
   "cell_type": "markdown",
   "metadata": {},
   "source": [
    "Проверка модели (закомментируем)"
   ]
  },
  {
   "cell_type": "code",
   "execution_count": 11,
   "metadata": {},
   "outputs": [],
   "source": [
    "# model_NER.save_pretrained(\"model/model_NER_custom/\")\n",
    "# tokenizer_NER.save_pretrained(\"model/tokenizer_NER_custom/\")"
   ]
  },
  {
   "cell_type": "markdown",
   "metadata": {},
   "source": [
    "#### Обучение"
   ]
  },
  {
   "cell_type": "markdown",
   "metadata": {},
   "source": [
    "Подгружаем сгенерированные данные. Алгоритм генерации описан в блокноте \"Data parser.ipynb\"."
   ]
  },
  {
   "cell_type": "code",
   "execution_count": 12,
   "metadata": {},
   "outputs": [
    {
     "name": "stdout",
     "output_type": "stream",
     "text": [
      "(40000, 2)\n"
     ]
    }
   ],
   "source": [
    "names_dataset = pd.read_json(\"data/names/names_train_large.json\")\n",
    "print(names_dataset.shape)"
   ]
  },
  {
   "cell_type": "markdown",
   "metadata": {},
   "source": [
    "Разделим набор данных на обучающую, валидационную и тестовую выборки."
   ]
  },
  {
   "cell_type": "code",
   "execution_count": 13,
   "metadata": {},
   "outputs": [],
   "source": [
    "names_dataset['mode'] = np.random.choice(['train', \"val\", \"test\"], size = names_dataset.shape[0], p = [0.7, 0.15, 0.15])"
   ]
  },
  {
   "cell_type": "code",
   "execution_count": 14,
   "metadata": {},
   "outputs": [
    {
     "data": {
      "text/html": [
       "<div>\n",
       "<style scoped>\n",
       "    .dataframe tbody tr th:only-of-type {\n",
       "        vertical-align: middle;\n",
       "    }\n",
       "\n",
       "    .dataframe tbody tr th {\n",
       "        vertical-align: top;\n",
       "    }\n",
       "\n",
       "    .dataframe thead th {\n",
       "        text-align: right;\n",
       "    }\n",
       "</style>\n",
       "<table border=\"1\" class=\"dataframe\">\n",
       "  <thead>\n",
       "    <tr style=\"text-align: right;\">\n",
       "      <th></th>\n",
       "      <th>tokens</th>\n",
       "      <th>ner_tags</th>\n",
       "      <th>mode</th>\n",
       "    </tr>\n",
       "  </thead>\n",
       "  <tbody>\n",
       "    <tr>\n",
       "      <th>0</th>\n",
       "      <td>[Олимпович, Аввакум, Копылов, Калашников]</td>\n",
       "      <td>[2, 0, 1, 1]</td>\n",
       "      <td>train</td>\n",
       "    </tr>\n",
       "    <tr>\n",
       "      <th>1</th>\n",
       "      <td>[Горюнов, Арсентий, Соболев, Астафьев, Пахомович]</td>\n",
       "      <td>[1, 0, 1, 1, 2]</td>\n",
       "      <td>test</td>\n",
       "    </tr>\n",
       "    <tr>\n",
       "      <th>2</th>\n",
       "      <td>[Фотиевна, Гертруда, Чижова]</td>\n",
       "      <td>[2, 0, 1]</td>\n",
       "      <td>val</td>\n",
       "    </tr>\n",
       "    <tr>\n",
       "      <th>3</th>\n",
       "      <td>[Троицкий, Юзеф, Бенедиктович]</td>\n",
       "      <td>[1, 0, 2]</td>\n",
       "      <td>train</td>\n",
       "    </tr>\n",
       "    <tr>\n",
       "      <th>4</th>\n",
       "      <td>[Людмила, Фадеева, Прохоровна, Грибкова]</td>\n",
       "      <td>[0, 1, 2, 1]</td>\n",
       "      <td>train</td>\n",
       "    </tr>\n",
       "  </tbody>\n",
       "</table>\n",
       "</div>"
      ],
      "text/plain": [
       "                                              tokens         ner_tags   mode\n",
       "0          [Олимпович, Аввакум, Копылов, Калашников]     [2, 0, 1, 1]  train\n",
       "1  [Горюнов, Арсентий, Соболев, Астафьев, Пахомович]  [1, 0, 1, 1, 2]   test\n",
       "2                       [Фотиевна, Гертруда, Чижова]        [2, 0, 1]    val\n",
       "3                     [Троицкий, Юзеф, Бенедиктович]        [1, 0, 2]  train\n",
       "4           [Людмила, Фадеева, Прохоровна, Грибкова]     [0, 1, 2, 1]  train"
      ]
     },
     "execution_count": 14,
     "metadata": {},
     "output_type": "execute_result"
    }
   ],
   "source": [
    "names_dataset['ner_tags'] = names_dataset['ner_tags'].map(lambda x: [i-1 for i in x])\n",
    "names_dataset.head()"
   ]
  },
  {
   "cell_type": "code",
   "execution_count": 15,
   "metadata": {},
   "outputs": [
    {
     "data": {
      "text/plain": [
       "DatasetDict({\n",
       "    train: Dataset({\n",
       "        features: ['tokens', 'ner_tags', 'mode', '__index_level_0__'],\n",
       "        num_rows: 28122\n",
       "    })\n",
       "    validation: Dataset({\n",
       "        features: ['tokens', 'ner_tags', 'mode', '__index_level_0__'],\n",
       "        num_rows: 5917\n",
       "    })\n",
       "    test: Dataset({\n",
       "        features: ['tokens', 'ner_tags', 'mode', '__index_level_0__'],\n",
       "        num_rows: 5961\n",
       "    })\n",
       "})"
      ]
     },
     "execution_count": 15,
     "metadata": {},
     "output_type": "execute_result"
    }
   ],
   "source": [
    "trdf = Dataset.from_pandas(names_dataset[names_dataset['mode'] == \"train\"])\n",
    "vldf = Dataset.from_pandas(names_dataset[names_dataset['mode'] == \"val\"])\n",
    "tedf = Dataset.from_pandas(names_dataset[names_dataset['mode'] == \"test\"])\n",
    "\n",
    "dataset_names = DatasetDict({\"train\": trdf, \"validation\": vldf, \"test\": tedf})\n",
    "dataset_names"
   ]
  },
  {
   "cell_type": "code",
   "execution_count": 16,
   "metadata": {},
   "outputs": [
    {
     "data": {
      "application/vnd.jupyter.widget-view+json": {
       "model_id": "f9f4c09c22a5481284e46df47cfc6edb",
       "version_major": 2,
       "version_minor": 0
      },
      "text/plain": [
       "Map:   0%|          | 0/28122 [00:00<?, ? examples/s]"
      ]
     },
     "metadata": {},
     "output_type": "display_data"
    },
    {
     "name": "stderr",
     "output_type": "stream",
     "text": [
      "Asking to truncate to max_length but no maximum length is provided and the model has no predefined maximum length. Default to no truncation.\n"
     ]
    },
    {
     "data": {
      "application/vnd.jupyter.widget-view+json": {
       "model_id": "a963ba5a77a14c939075e2332a9d9189",
       "version_major": 2,
       "version_minor": 0
      },
      "text/plain": [
       "Map:   0%|          | 0/5917 [00:00<?, ? examples/s]"
      ]
     },
     "metadata": {},
     "output_type": "display_data"
    },
    {
     "data": {
      "application/vnd.jupyter.widget-view+json": {
       "model_id": "2e1ddeed62bc4dc8a06123c841de979f",
       "version_major": 2,
       "version_minor": 0
      },
      "text/plain": [
       "Map:   0%|          | 0/5961 [00:00<?, ? examples/s]"
      ]
     },
     "metadata": {},
     "output_type": "display_data"
    }
   ],
   "source": [
    "tokenized_datasets = dataset_names.map(\n",
    "    tokenize_and_align_labels,\n",
    "    batched=True,\n",
    "    remove_columns=dataset_names[\"train\"].column_names\n",
    ")"
   ]
  },
  {
   "cell_type": "code",
   "execution_count": 17,
   "metadata": {},
   "outputs": [],
   "source": [
    "data_collator = DataCollatorForTokenClassification(tokenizer=tokenizer_NER)"
   ]
  },
  {
   "cell_type": "code",
   "execution_count": 18,
   "metadata": {},
   "outputs": [
    {
     "name": "stderr",
     "output_type": "stream",
     "text": [
      "You're using a BertTokenizerFast tokenizer. Please note that with a fast tokenizer, using the `__call__` method is faster than using a method to encode the text followed by a call to the `pad` method to get a padded encoding.\n"
     ]
    },
    {
     "data": {
      "text/plain": [
       "tensor([[-100,    2,    2,    0,    0,    1,    1,    1, -100],\n",
       "        [-100,    1,    0,    2,    2, -100, -100, -100, -100],\n",
       "        [-100,    0,    1,    2,    2,    1,    1, -100, -100],\n",
       "        [-100,    1,    1,    0,    0, -100, -100, -100, -100]])"
      ]
     },
     "execution_count": 18,
     "metadata": {},
     "output_type": "execute_result"
    }
   ],
   "source": [
    "batch = data_collator([tokenized_datasets[\"train\"][i] for i in range(4)])\n",
    "batch[\"labels\"]"
   ]
  },
  {
   "cell_type": "code",
   "execution_count": 19,
   "metadata": {},
   "outputs": [],
   "source": [
    "metric = evaluate.load(\"seqeval\")"
   ]
  },
  {
   "cell_type": "code",
   "execution_count": 20,
   "metadata": {},
   "outputs": [
    {
     "data": {
      "text/plain": [
       "3"
      ]
     },
     "execution_count": 20,
     "metadata": {},
     "output_type": "execute_result"
    }
   ],
   "source": [
    "model_NER.config.num_labels"
   ]
  },
  {
   "cell_type": "code",
   "execution_count": 21,
   "metadata": {},
   "outputs": [],
   "source": [
    "train_dataloader = DataLoader(\n",
    "    tokenized_datasets[\"train\"],\n",
    "    shuffle=True,\n",
    "    collate_fn=data_collator,\n",
    "    batch_size=4,\n",
    ")\n",
    "\n",
    "eval_dataloader = DataLoader(\n",
    "    tokenized_datasets[\"validation\"], \n",
    "    collate_fn=data_collator, \n",
    "    batch_size=8\n",
    ")"
   ]
  },
  {
   "cell_type": "code",
   "execution_count": 22,
   "metadata": {},
   "outputs": [],
   "source": [
    "optimizer = AdamW(model_NER.parameters(), lr=5e-05, betas=(0.9,0.999), eps=1e-08)"
   ]
  },
  {
   "cell_type": "code",
   "execution_count": 23,
   "metadata": {},
   "outputs": [],
   "source": [
    "# accelerator = Accelerator(cpu=True)\n",
    "accelerator = Accelerator()\n",
    "model, optimizer, train_dataloader, eval_dataloader = accelerator.prepare(\n",
    "    model_NER, optimizer, train_dataloader, eval_dataloader\n",
    ")"
   ]
  },
  {
   "cell_type": "code",
   "execution_count": 24,
   "metadata": {},
   "outputs": [
    {
     "data": {
      "text/plain": [
       "device(type='cuda')"
      ]
     },
     "execution_count": 24,
     "metadata": {},
     "output_type": "execute_result"
    }
   ],
   "source": [
    "train_dataloader.device"
   ]
  },
  {
   "cell_type": "code",
   "execution_count": 25,
   "metadata": {},
   "outputs": [
    {
     "data": {
      "text/plain": [
       "device(type='cuda', index=0)"
      ]
     },
     "execution_count": 25,
     "metadata": {},
     "output_type": "execute_result"
    }
   ],
   "source": [
    "model.device"
   ]
  },
  {
   "cell_type": "code",
   "execution_count": 26,
   "metadata": {},
   "outputs": [],
   "source": [
    "num_train_epochs = 5\n",
    "num_update_steps_per_epoch = len(train_dataloader)\n",
    "num_training_steps = num_train_epochs * num_update_steps_per_epoch\n",
    "\n",
    "cos_scheduler = get_scheduler(\n",
    "    \"cosine\",\n",
    "    optimizer=optimizer,\n",
    "    num_warmup_steps=0.1,\n",
    "    num_training_steps=num_training_steps,\n",
    ")"
   ]
  },
  {
   "cell_type": "code",
   "execution_count": 27,
   "metadata": {},
   "outputs": [
    {
     "data": {
      "text/plain": [
       "'model/test/names/bert-finetuned-ner-DeepPavlov-rubert-base-cased'"
      ]
     },
     "execution_count": 27,
     "metadata": {},
     "output_type": "execute_result"
    }
   ],
   "source": [
    "output_dir = \"model/test/names/bert-finetuned-ner-\" + path_to_model.replace('/', \"-\")\n",
    "output_dir"
   ]
  },
  {
   "cell_type": "code",
   "execution_count": 28,
   "metadata": {},
   "outputs": [
    {
     "data": {
      "application/vnd.jupyter.widget-view+json": {
       "model_id": "8443d61ec90b4a3ea33fd6101bfa707a",
       "version_major": 2,
       "version_minor": 0
      },
      "text/plain": [
       "  0%|          | 0/35155 [00:00<?, ?it/s]"
      ]
     },
     "metadata": {},
     "output_type": "display_data"
    },
    {
     "name": "stderr",
     "output_type": "stream",
     "text": [
      "c:\\Users\\Artem Kondrashov\\AppData\\Local\\Programs\\Python\\Python311\\Lib\\site-packages\\seqeval\\metrics\\sequence_labeling.py:171: UserWarning: PER-PATR seems not to be NE tag.\n",
      "  warnings.warn('{} seems not to be NE tag.'.format(chunk))\n",
      "c:\\Users\\Artem Kondrashov\\AppData\\Local\\Programs\\Python\\Python311\\Lib\\site-packages\\seqeval\\metrics\\sequence_labeling.py:171: UserWarning: PER-NAME seems not to be NE tag.\n",
      "  warnings.warn('{} seems not to be NE tag.'.format(chunk))\n",
      "c:\\Users\\Artem Kondrashov\\AppData\\Local\\Programs\\Python\\Python311\\Lib\\site-packages\\seqeval\\metrics\\sequence_labeling.py:171: UserWarning: PER-SURN seems not to be NE tag.\n",
      "  warnings.warn('{} seems not to be NE tag.'.format(chunk))\n"
     ]
    },
    {
     "name": "stdout",
     "output_type": "stream",
     "text": [
      "epoch 0: {'precision': 0.9985421981569219, 'recall': 0.9985421981569219, 'f1': 0.9985421981569219, 'accuracy': 0.9995748086638988}\n",
      "epoch 1: {'precision': 0.9976050398292289, 'recall': 0.9956869673664519, 'f1': 0.9966450807521261, 'accuracy': 0.9986744034815667}\n",
      "epoch 2: {'precision': 0.999583485187692, 'recall': 0.9995314452311537, 'f1': 0.9995574645320839, 'accuracy': 0.9998249212145466}\n",
      "epoch 3: {'precision': 0.9998438069453846, 'recall': 0.9998438069453846, 'f1': 0.9998438069453846, 'accuracy': 0.9999499774898705}\n",
      "epoch 4: {'precision': 0.999791742593846, 'recall': 0.999895860453007, 'f1': 0.999843798812871, 'accuracy': 0.9999499774898705}\n"
     ]
    }
   ],
   "source": [
    "progress_bar = tqdm(range(num_training_steps))\n",
    "metrics_df = {'epoch': list(range(1, num_train_epochs+1)),\n",
    "           \"precision\": [], \n",
    "           \"recall\": [], \n",
    "           \"f1\": [], \n",
    "           \"accuracy\": []}\n",
    "\n",
    "for epoch in range(num_train_epochs):\n",
    "    # Training\n",
    "\n",
    "    model.train()\n",
    "    \n",
    "    for i, batch in enumerate(train_dataloader):\n",
    "        \n",
    "        outputs = model(**batch)\n",
    "        loss = outputs.loss\n",
    "        accelerator.backward(loss)\n",
    "\n",
    "        optimizer.step()\n",
    "        cos_scheduler.step()\n",
    "        optimizer.zero_grad()\n",
    "        progress_bar.update(1)\n",
    "\n",
    "    # Evaluation\n",
    "        \n",
    "    model.eval()\n",
    "    \n",
    "    for batch in eval_dataloader:\n",
    "\n",
    "        with torch.no_grad():\n",
    "            outputs = model(**batch)\n",
    "\n",
    "        predictions = outputs.logits.argmax(dim=-1)\n",
    "        labels = batch[\"labels\"]\n",
    "\n",
    "        # Necessary to pad predictions and labels for being gathered\n",
    "        predictions = accelerator.pad_across_processes(predictions, dim=1, pad_index=-100)\n",
    "        labels = accelerator.pad_across_processes(labels, dim=1, pad_index=-100)\n",
    "\n",
    "        predictions_gathered = accelerator.gather(predictions)\n",
    "        labels_gathered = accelerator.gather(labels)\n",
    "\n",
    "        true_predictions, true_labels = postprocess(predictions_gathered, labels_gathered, label_names)\n",
    "        metric.add_batch(predictions=true_predictions, references=true_labels)\n",
    "\n",
    "    results = metric.compute()\n",
    "    print(\n",
    "        f\"epoch {epoch}:\",\n",
    "        {\n",
    "            key: results[f\"overall_{key}\"]\n",
    "            for key in [\"precision\", \"recall\", \"f1\", \"accuracy\"]\n",
    "        },\n",
    "    )\n",
    "\n",
    "    for key in [\"precision\", \"recall\", \"f1\", \"accuracy\"]:\n",
    "        metrics_df[key].append(results[f\"overall_{key}\"])\n",
    "\n",
    "    # Save and upload\n",
    "    accelerator.wait_for_everyone()\n",
    "    unwrapped_model = accelerator.unwrap_model(model)\n",
    "    unwrapped_model.save_pretrained(output_dir, save_function=accelerator.save)\n",
    "    if accelerator.is_main_process:\n",
    "        tokenizer_NER.save_pretrained(output_dir)"
   ]
  },
  {
   "cell_type": "markdown",
   "metadata": {},
   "source": [
    "#### Тест"
   ]
  },
  {
   "cell_type": "code",
   "execution_count": null,
   "metadata": {},
   "outputs": [],
   "source": [
    "print(path_to_model, end=\"\\n\\n\")\n",
    "\n",
    "metrics_df = pd.DataFrame(metrics_df)\n",
    "\n",
    "print(metrics_df)\n",
    "metrics_df.iloc[:, 1:].plot();"
   ]
  },
  {
   "cell_type": "code",
   "execution_count": 29,
   "metadata": {},
   "outputs": [
    {
     "name": "stdout",
     "output_type": "stream",
     "text": [
      "DeepPavlov/rubert-base-cased\n",
      "   epoch  precision    recall        f1  accuracy\n",
      "0      1   0.998542  0.998542  0.998542  0.999575\n",
      "1      2   0.997605  0.995687  0.996645  0.998674\n",
      "2      3   0.999583  0.999531  0.999557  0.999825\n",
      "3      4   0.999844  0.999844  0.999844  0.999950\n",
      "4      5   0.999792  0.999896  0.999844  0.999950\n"
     ]
    },
    {
     "data": {
      "image/png": "[encoded data removed]",
      "text/plain": [
       "<Figure size 640x480 with 1 Axes>"
      ]
     },
     "metadata": {},
     "output_type": "display_data"
    }
   ],
   "source": [
    "print(path_to_model)\n",
    "\n",
    "metrics_df = pd.DataFrame(metrics_df)\n",
    "\n",
    "print(metrics_df)\n",
    "metrics_df.iloc[:, 1:].plot();\n",
    "\n",
    "metrics_df.to_csv(\"metrics_\"+path_to_model.replace(\"/\", \"-\")+\".csv\")"
   ]
  },
  {
   "cell_type": "code",
   "execution_count": 6,
   "metadata": {},
   "outputs": [
    {
     "name": "stdout",
     "output_type": "stream",
     "text": [
      "ai-forever/ruBert-base\n",
      "   Unnamed: 0  epoch  precision    recall        f1  accuracy\n",
      "0           0      1   0.997345  0.998072  0.997708  0.999474\n",
      "1           1      2   0.998959  0.999219  0.999089  0.999710\n",
      "2           2      3   0.999531  0.999531  0.999531  0.999909\n",
      "3           3      4   0.999948  0.999896  0.999922  0.999982\n",
      "4           4      5   0.999948  0.999948  0.999948  0.999964\n"
     ]
    },
    {
     "data": {
      "image/png": "[encoded data removed]",
      "text/plain": [
       "<Figure size 640x480 with 1 Axes>"
      ]
     },
     "metadata": {},
     "output_type": "display_data"
    }
   ],
   "source": [
    "print(path_to_model)\n",
    "\n",
    "metrics_df = pd.DataFrame(metrics_df)\n",
    "\n",
    "print(metrics_df)\n",
    "metrics_df.iloc[:, 1:].plot();\n",
    "\n",
    "metrics_df.to_csv(\"metrics_names_\"+path_to_model.replace(\"/\", \"-\")+\".csv\")"
   ]
  },
  {
   "cell_type": "code",
   "execution_count": 84,
   "metadata": {},
   "outputs": [
    {
     "data": {
      "text/plain": [
       "Text(0.5, 1.0, 'Validation metrics for rubert-base model')"
      ]
     },
     "execution_count": 84,
     "metadata": {},
     "output_type": "execute_result"
    },
    {
     "data": {
      "image/png": "[encoded data removed]",
      "text/plain": [
       "<Figure size 640x480 with 1 Axes>"
      ]
     },
     "metadata": {},
     "output_type": "display_data"
    }
   ],
   "source": [
    "mod = \"rubert-base\"\n",
    "metrics_df = pd.read_csv(\"results/names/metrics_names_ai-forever-\" + mod + \".csv\")\n",
    "metrics_df.iloc[:, 3:].plot()\n",
    "plt.xlabel(\"Epoch\")\n",
    "plt.title(\"Validation metrics for \" + mod + \" model\")"
   ]
  },
  {
   "cell_type": "markdown",
   "metadata": {},
   "source": [
    "Тест лучшей модели"
   ]
  },
  {
   "cell_type": "code",
   "execution_count": 30,
   "metadata": {},
   "outputs": [],
   "source": [
    "# default\n",
    "# path_to_model_NER_names = \"model/stable/bert-finetuned-ner-names-accelerate\" \n",
    "\n",
    "# ruBert-base\n",
    "# path_to_model_NER_names = \"model/test/names/bert-finetuned-ner-ai-forever-ruBert-base/\" \n",
    "\n",
    "# ruBert-large\n",
    "# path_to_model_NER_names = \"model/test/names/bert-finetuned-ner-ai-forever-ruBert-large/\" \n",
    "\n",
    "# ruRoBerta-large\n",
    "# path_to_model_NER_names = \"model/test/names/bert-finetuned-ner-ai-forever-ruRoberta-large/\" \n",
    "\n",
    "# deepPavlov cased ruBert-base\n",
    "path_to_model_NER_names = \"model/test/names/bert-finetuned-ner-DeepPavlov-rubert-base-cased/\" "
   ]
  },
  {
   "cell_type": "code",
   "execution_count": 31,
   "metadata": {},
   "outputs": [],
   "source": [
    "## NER для имен\n",
    "label_names = ['PER-NAME', 'PER-SURN', 'PER-PATR']\n",
    "\n",
    "id2label = {i: label for i, label in enumerate(label_names)}\n",
    "label2id = {v: k for k, v in id2label.items()}\n",
    "\n",
    "model_NER = AutoModelForTokenClassification.from_pretrained(path_to_model_NER_names,\n",
    "                                                               id2label=id2label,\n",
    "                                                               label2id=label2id)\n",
    "tokenizer_NER = AutoTokenizer.from_pretrained(path_to_model_NER_names, use_fast=True)"
   ]
  },
  {
   "cell_type": "code",
   "execution_count": 32,
   "metadata": {},
   "outputs": [],
   "source": [
    "test_dataloader = DataLoader(\n",
    "    tokenized_datasets[\"test\"], \n",
    "    collate_fn=data_collator, \n",
    "    batch_size=1\n",
    ")"
   ]
  },
  {
   "cell_type": "code",
   "execution_count": 33,
   "metadata": {},
   "outputs": [],
   "source": [
    "accelerator = Accelerator()\n",
    "\n",
    "model_NER, optimizer, train_dataloader, test_dataloader = accelerator.prepare(\n",
    "    model_NER, optimizer, train_dataloader, test_dataloader\n",
    ")"
   ]
  },
  {
   "cell_type": "code",
   "execution_count": 34,
   "metadata": {},
   "outputs": [],
   "source": [
    "model_NER.cpu()\n",
    "\n",
    "token_classifier = pipeline(\n",
    "    \"token-classification\", model=model_NER, aggregation_strategy=\"simple\", tokenizer=tokenizer_NER\n",
    ")"
   ]
  },
  {
   "cell_type": "code",
   "execution_count": 35,
   "metadata": {},
   "outputs": [
    {
     "name": "stderr",
     "output_type": "stream",
     "text": [
      "c:\\Users\\Artem Kondrashov\\AppData\\Local\\Programs\\Python\\Python311\\Lib\\site-packages\\seqeval\\metrics\\sequence_labeling.py:171: UserWarning: PER-SURN seems not to be NE tag.\n",
      "  warnings.warn('{} seems not to be NE tag.'.format(chunk))\n",
      "c:\\Users\\Artem Kondrashov\\AppData\\Local\\Programs\\Python\\Python311\\Lib\\site-packages\\seqeval\\metrics\\sequence_labeling.py:171: UserWarning: PER-NAME seems not to be NE tag.\n",
      "  warnings.warn('{} seems not to be NE tag.'.format(chunk))\n",
      "c:\\Users\\Artem Kondrashov\\AppData\\Local\\Programs\\Python\\Python311\\Lib\\site-packages\\seqeval\\metrics\\sequence_labeling.py:171: UserWarning: PER-PATR seems not to be NE tag.\n",
      "  warnings.warn('{} seems not to be NE tag.'.format(chunk))\n",
      "c:\\Users\\Artem Kondrashov\\AppData\\Local\\Programs\\Python\\Python311\\Lib\\site-packages\\seqeval\\metrics\\v1.py:57: UndefinedMetricWarning: Recall and F-score are ill-defined and being set to 0.0 in labels with no true samples. Use `zero_division` parameter to control this behavior.\n",
      "  _warn_prf(average, modifier, msg_start, len(result))\n"
     ]
    },
    {
     "name": "stdout",
     "output_type": "stream",
     "text": [
      "precision    0.999899\n",
      "recall       0.999944\n",
      "f1           0.999916\n",
      "accuracy     0.999983\n",
      "dtype: float64\n"
     ]
    }
   ],
   "source": [
    "test_df = []\n",
    "\n",
    "for i, batch in enumerate(test_dataloader):\n",
    "\n",
    "    batch = batch.to(\"cpu\")\n",
    "\n",
    "    with torch.no_grad():\n",
    "        outputs = model_NER(**batch)\n",
    "\n",
    "    predictions = outputs.logits.argmax(dim=-1)\n",
    "    labels = batch[\"labels\"]\n",
    "\n",
    "    # Necessary to pad predictions and labels for being gathered\n",
    "    predictions = accelerator.pad_across_processes(predictions, dim=1, pad_index=-100)\n",
    "    labels = accelerator.pad_across_processes(labels, dim=1, pad_index=-100)\n",
    "\n",
    "    predictions_gathered = accelerator.gather(predictions)\n",
    "    labels_gathered = accelerator.gather(labels)\n",
    "\n",
    "    # print(predictions_gathered)\n",
    "    # print(labels_gathered)\n",
    "\n",
    "    true_predictions, true_labels = postprocess(predictions_gathered, labels_gathered, label_names)\n",
    "\n",
    "    # print(true_labels)\n",
    "    # print(true_predictions)\n",
    "\n",
    "    metric.add_batch(predictions=true_predictions, references=true_labels)\n",
    "\n",
    "    results = metric.compute()\n",
    "    test_df.append([\n",
    "            results[f\"overall_{key}\"]\n",
    "            for key in [\"precision\", \"recall\", \"f1\", \"accuracy\"]\n",
    "        ]),\n",
    "    \n",
    "test_df = pd.DataFrame(test_df, columns = [\"precision\", \"recall\", \"f1\", \"accuracy\"])\n",
    "print(test_df.mean(axis=0))\n",
    "test_df.to_csv(\"test_df_names_\"+path_to_model.replace(\"/\", \"-\")+\".csv\")"
   ]
  },
  {
   "cell_type": "code",
   "execution_count": 60,
   "metadata": {},
   "outputs": [
    {
     "data": {
      "text/plain": [
       "Unnamed: 0    2980.0\n",
       "precision        1.0\n",
       "recall           1.0\n",
       "f1               1.0\n",
       "accuracy         1.0\n",
       "dtype: float64"
      ]
     },
     "execution_count": 60,
     "metadata": {},
     "output_type": "execute_result"
    }
   ],
   "source": [
    "tbl = pd.read_csv(\"results/names/test_df_names_DeepPavlov-rubert-base-cased.csv\")\n",
    "tbl.mean(axis = 0).round(3)"
   ]
  },
  {
   "cell_type": "code",
   "execution_count": null,
   "metadata": {},
   "outputs": [
    {
     "name": "stderr",
     "output_type": "stream",
     "text": [
      "Asking to truncate to max_length but no maximum length is provided and the model has no predefined maximum length. Default to no truncation.\n"
     ]
    },
    {
     "name": "stdout",
     "output_type": "stream",
     "text": [
      "[{'entity_group': 'SURN', 'score': 0.9999862, 'word': 'мака', 'start': 0, 'end': 4}, {'entity_group': 'PATR', 'score': 0.9999906, 'word': '##ров', 'start': 4, 'end': 7}, {'entity_group': 'NAME', 'score': 0.9999775, 'word': 'андреи', 'start': 8, 'end': 14}, {'entity_group': 'PATR', 'score': 0.99999034, 'word': 'николаевич', 'start': 15, 'end': 25}]\n"
     ]
    }
   ],
   "source": [
    "print(token_classifier(\"Макаров Андрей Николаевич\"))"
   ]
  },
  {
   "cell_type": "code",
   "execution_count": null,
   "metadata": {},
   "outputs": [
    {
     "name": "stdout",
     "output_type": "stream",
     "text": [
      "[{'entity_group': 'SURN', 'score': 0.9999864, 'word': 'окро', 'start': 0, 'end': 4}, {'entity_group': 'PATR', 'score': 0.9999907, 'word': '##шковская', 'start': 4, 'end': 12}, {'entity_group': 'NAME', 'score': 0.9999781, 'word': 'елена', 'start': 13, 'end': 18}, {'entity_group': 'PATR', 'score': 0.99999046, 'word': 'викторовна', 'start': 19, 'end': 29}]\n",
      "[{'entity_group': 'SURN', 'score': 0.9999862, 'word': 'коба', 'start': 0, 'end': 4}, {'entity_group': 'PATR', 'score': 0.9999906, 'word': '##ева', 'start': 4, 'end': 7}, {'entity_group': 'NAME', 'score': 0.9999781, 'word': 'виола', 'start': 8, 'end': 13}, {'entity_group': 'PATR', 'score': 0.99999046, 'word': 'ролландовна', 'start': 14, 'end': 25}]\n",
      "[{'entity_group': 'SURN', 'score': 0.9999865, 'word': 'мака', 'start': 0, 'end': 4}, {'entity_group': 'PATR', 'score': 0.9999907, 'word': '##рова', 'start': 4, 'end': 8}, {'entity_group': 'SURN', 'score': 0.8506638, 'word': '( пурпур', 'start': 9, 'end': 16}, {'entity_group': 'PATR', 'score': 0.9999869, 'word': '##ова )', 'start': 16, 'end': 20}, {'entity_group': 'NAME', 'score': 0.99997884, 'word': 'валентина', 'start': 21, 'end': 30}, {'entity_group': 'PATR', 'score': 0.99999034, 'word': 'михаиловна', 'start': 31, 'end': 41}]\n"
     ]
    }
   ],
   "source": [
    "print(token_classifier(\"Окрошковская Елена Викторовна\"))\n",
    "\n",
    "print(token_classifier(\"Кобаева Виола Ролландовна\"))\n",
    "\n",
    "print(token_classifier(\"Макарова (Пурпурова) Валентина Михайловна\"))"
   ]
  },
  {
   "cell_type": "code",
   "execution_count": null,
   "metadata": {},
   "outputs": [],
   "source": [
    "def name_reconstruct(name: str) -> str:\n",
    "\n",
    "    \"\"\"\n",
    "    Функция для исправления формата имен в формат ФИО \n",
    "    В случае, если в тексте распознается более 1 фамилии, то используется формат \n",
    "        Ф (Ф1, Ф2, ... - при наличии старых фамилий) И О\n",
    "\n",
    "    Параметры:\n",
    "    name : str\n",
    "        Строка с именем\n",
    "\n",
    "    Возвращает:\n",
    "    string_out : str\n",
    "        Строка с именем требуемого формата\n",
    "    \"\"\"\n",
    "\n",
    "    # создание словаря для сортировки элементов имени\n",
    "    entities = ['SURN', 'NAME', 'PATR']\n",
    "    sort_dict = {key: elem for elem, key in list(enumerate(entities))}\n",
    "\n",
    "    name_tokens = re.findall(\"[а-яА-ЯЁё\\-]+\", name)\n",
    "\n",
    "    NER_output = token_classifier(name_tokens)\n",
    "\n",
    "    name_classes =  np.array([elem[0]['entity_group'] for elem in NER_output])\n",
    "\n",
    "    # переформирование имени\n",
    "    string_out = \" \".join([x for _, x in sorted(zip(name_classes, name_tokens), key = lambda pair: sort_dict[pair[0]])])\n",
    "\n",
    "    nameparts_counts = np.unique(name_classes, return_counts=True)\n",
    "\n",
    "    # В случае, если больше одной фамилии - фамилии, следующие после 1й заключить в скобки\n",
    "    if \"SURN\" in nameparts_counts[0] and nameparts_counts[1][-1] > 1:\n",
    "\n",
    "        surnames = string_out.split()[:nameparts_counts[1][-1]]\n",
    "        other_name_part = string_out.split()[nameparts_counts[1][-1]:]\n",
    "\n",
    "        string_out = surnames[0] + \" (\" + \", \".join(surnames[1:]) + \") \" + \" \".join(other_name_part)\n",
    "\n",
    "    return(string_out)"
   ]
  },
  {
   "cell_type": "code",
   "execution_count": null,
   "metadata": {},
   "outputs": [
    {
     "data": {
      "text/plain": [
       "'Семёнов-Тян-Шанский Пётр Петрович'"
      ]
     },
     "execution_count": 45,
     "metadata": {},
     "output_type": "execute_result"
    }
   ],
   "source": [
    "name_reconstruct(\"Пётр Петрович Семёнов-Тян-Шанский\")"
   ]
  },
  {
   "cell_type": "code",
   "execution_count": null,
   "metadata": {},
   "outputs": [
    {
     "data": {
      "text/plain": [
       "'Пурпурова (Ольшанская) Валентина'"
      ]
     },
     "execution_count": 46,
     "metadata": {},
     "output_type": "execute_result"
    }
   ],
   "source": [
    "name_reconstruct(\"Валентина (Пурпурова, Ольшанская)\")"
   ]
  },
  {
   "cell_type": "markdown",
   "metadata": {},
   "source": [
    "Все работает корректно."
   ]
  },
  {
   "cell_type": "markdown",
   "metadata": {},
   "source": [
    "### NER (для адресов)"
   ]
  },
  {
   "cell_type": "markdown",
   "metadata": {},
   "source": [
    "#### Настройки"
   ]
  },
  {
   "cell_type": "markdown",
   "metadata": {},
   "source": [
    "В целом, процедура для обучения NER для распознвания адресов идентична той, что мы провели для модели для распознавания имен. Однако, мы использовали другую модель - на этот раз модель, принимающую во внимание регистр символов. Мы предполагаем, что такая модель будет гораздо лучше распознвать элементы адреса."
   ]
  },
  {
   "cell_type": "code",
   "execution_count": null,
   "metadata": {},
   "outputs": [],
   "source": [
    "# sentence = \"Калужская обл., г. Обнинск, ул. Аксёнова, д. 33, кв.21, прибыла из г. Воскресенск Московской обл. в 1990 г.\"\n",
    "\n",
    "# print(\"Input:\", sentence)\n",
    "\n",
    "# nlp = pipeline(\"ner\", model=model_NER, tokenizer=tokenizer_NER)\n",
    "\n",
    "# ner_results = nlp(sentence)\n",
    "\n",
    "# print(\"Output:\", ner_results)"
   ]
  },
  {
   "cell_type": "code",
   "execution_count": null,
   "metadata": {},
   "outputs": [],
   "source": [
    "# [elem['word'].replace(\"#\", \"\") for elem in ner_results if elem['entity'] in ['B-LOC', \"I-LOC\"]]"
   ]
  },
  {
   "cell_type": "code",
   "execution_count": 6,
   "metadata": {},
   "outputs": [],
   "source": [
    "# path_to_model = \"viktoroo/sberbank-rubert-base-collection3\" \n",
    "# path_to_tokenizer = \"viktoroo/sberbank-rubert-base-collection3\"\n",
    "\n",
    "# path_to_model = \"ai-forever/ruBert-base\" \n",
    "# path_to_tokenizer = \"ai-forever/ruBert-base\"\n",
    "\n",
    "# path_to_model = \"ai-forever/ruBert-large\" \n",
    "# path_to_tokenizer = \"ai-forever/ruBert-large\"\n",
    "\n",
    "path_to_model = \"ai-forever/ruRoberta-large\" \n",
    "path_to_tokenizer = \"ai-forever/ruRoberta-large\"\n",
    "\n",
    "# path_to_model = \"DeepPavlov/rubert-base-cased\" \n",
    "# path_to_tokenizer = \"DeepPavlov/rubert-base-cased\""
   ]
  },
  {
   "cell_type": "code",
   "execution_count": 7,
   "metadata": {},
   "outputs": [
    {
     "data": {
      "text/plain": [
       "RobertaTokenizerFast(name_or_path='ai-forever/ruRoberta-large', vocab_size=50257, model_max_length=1000000000000000019884624838656, is_fast=True, padding_side='right', truncation_side='right', special_tokens={'bos_token': AddedToken(\"<s>\", rstrip=False, lstrip=False, single_word=False, normalized=True), 'eos_token': AddedToken(\"</s>\", rstrip=False, lstrip=False, single_word=False, normalized=True), 'unk_token': AddedToken(\"<unk>\", rstrip=False, lstrip=False, single_word=False, normalized=True), 'sep_token': AddedToken(\"</s>\", rstrip=False, lstrip=False, single_word=False, normalized=True), 'pad_token': AddedToken(\"<pad>\", rstrip=False, lstrip=False, single_word=False, normalized=True), 'cls_token': AddedToken(\"<s>\", rstrip=False, lstrip=False, single_word=False, normalized=True), 'mask_token': AddedToken(\"<mask>\", rstrip=False, lstrip=True, single_word=False, normalized=True)}, clean_up_tokenization_spaces=True)"
      ]
     },
     "execution_count": 7,
     "metadata": {},
     "output_type": "execute_result"
    }
   ],
   "source": [
    "tokenizer_NER = AutoTokenizer.from_pretrained(path_to_tokenizer, use_fast=True, add_prefix_space=True)\n",
    "tokenizer_NER"
   ]
  },
  {
   "cell_type": "code",
   "execution_count": 8,
   "metadata": {},
   "outputs": [],
   "source": [
    "label_names = [\"O\",\n",
    "               \"LOC-REG\", \n",
    "               \"LOC-DIST\", \n",
    "               \"LOC-SETL\", \n",
    "               \"LOC-CDIST\", \n",
    "               \"LOC-STRT\", \n",
    "               \"LOC-HOUS\", \n",
    "               \"LOC-FLAT\"]\n",
    "\n",
    "id2label = {i: label for i, label in enumerate(label_names)}\n",
    "label2id = {v: k for k, v in id2label.items()}"
   ]
  },
  {
   "cell_type": "code",
   "execution_count": 9,
   "metadata": {},
   "outputs": [],
   "source": [
    "def tokenize_and_align_labels(examples, tokenizer = tokenizer_NER):\n",
    "\n",
    "    tokenized_inputs = tokenizer(\n",
    "        examples[\"tokens\"], truncation=True, is_split_into_words=True\n",
    "    )\n",
    "    \n",
    "    all_labels = examples[\"ner_tags\"]\n",
    "    new_labels = []\n",
    "\n",
    "    for i, labels in enumerate(all_labels):\n",
    "        if i == 4: print(labels)\n",
    "        word_ids = tokenized_inputs.word_ids(i)\n",
    "        new_labels.append(align_labels_with_tokens(labels, word_ids, label_names))\n",
    "\n",
    "    tokenized_inputs[\"labels\"] = new_labels\n",
    "    return tokenized_inputs"
   ]
  },
  {
   "cell_type": "code",
   "execution_count": 10,
   "metadata": {},
   "outputs": [
    {
     "name": "stderr",
     "output_type": "stream",
     "text": [
      "Some weights of RobertaForTokenClassification were not initialized from the model checkpoint at ai-forever/ruRoberta-large and are newly initialized: ['classifier.weight', 'classifier.bias']\n",
      "You should probably TRAIN this model on a down-stream task to be able to use it for predictions and inference.\n"
     ]
    }
   ],
   "source": [
    "model_NER_adr = AutoModelForTokenClassification.from_pretrained(path_to_model,\n",
    "                                                               id2label=id2label,\n",
    "                                                               label2id=label2id)"
   ]
  },
  {
   "cell_type": "markdown",
   "metadata": {},
   "source": [
    "#### Обучение"
   ]
  },
  {
   "cell_type": "markdown",
   "metadata": {},
   "source": [
    "Загружаем набор данных (алгоритм генерации описан в блокноте \"Data parser.ipynb\")"
   ]
  },
  {
   "cell_type": "code",
   "execution_count": 11,
   "metadata": {},
   "outputs": [
    {
     "name": "stdout",
     "output_type": "stream",
     "text": [
      "(1200, 2)\n"
     ]
    }
   ],
   "source": [
    "adr_dataset = pd.read_json(\"data/addresses/addresses_train_med_extra.json\")\n",
    "print(adr_dataset.shape)"
   ]
  },
  {
   "cell_type": "code",
   "execution_count": 12,
   "metadata": {},
   "outputs": [
    {
     "data": {
      "text/html": [
       "<div>\n",
       "<style scoped>\n",
       "    .dataframe tbody tr th:only-of-type {\n",
       "        vertical-align: middle;\n",
       "    }\n",
       "\n",
       "    .dataframe tbody tr th {\n",
       "        vertical-align: top;\n",
       "    }\n",
       "\n",
       "    .dataframe thead th {\n",
       "        text-align: right;\n",
       "    }\n",
       "</style>\n",
       "<table border=\"1\" class=\"dataframe\">\n",
       "  <thead>\n",
       "    <tr style=\"text-align: right;\">\n",
       "      <th></th>\n",
       "      <th>tokens</th>\n",
       "      <th>ner_tags</th>\n",
       "      <th>mode</th>\n",
       "    </tr>\n",
       "  </thead>\n",
       "  <tbody>\n",
       "    <tr>\n",
       "      <th>0</th>\n",
       "      <td>[Семиэтажное, здание, находилось, по, адресу:,...</td>\n",
       "      <td>[0, 0, 0, 0, 0, 4, 4, 1, 1, 2, 2, 3, 3, 0, 0, ...</td>\n",
       "      <td>train</td>\n",
       "    </tr>\n",
       "    <tr>\n",
       "      <th>1</th>\n",
       "      <td>[Проживает, по, адресу:, Нагорское, Деревня, д...</td>\n",
       "      <td>[0, 0, 0, 4, 4, 6, 6, 7, 7, 5, 5, 2, 2, 1, 1]</td>\n",
       "      <td>test</td>\n",
       "    </tr>\n",
       "    <tr>\n",
       "      <th>2</th>\n",
       "      <td>[Проживает, по, адресу:, Боханский, р-н, Тойси...</td>\n",
       "      <td>[0, 0, 0, 2, 2, 3, 3, 6, 6, 5, 5, 7, 7, 1, 1, ...</td>\n",
       "      <td>val</td>\n",
       "    </tr>\n",
       "    <tr>\n",
       "      <th>3</th>\n",
       "      <td>[Выставочный, зал, находится, по, адресу, Чишм...</td>\n",
       "      <td>[0, 0, 0, 0, 0, 2, 2, 1, 1, 3, 3, 4, 4]</td>\n",
       "      <td>train</td>\n",
       "    </tr>\n",
       "    <tr>\n",
       "      <th>4</th>\n",
       "      <td>[Проживает, по, адресу:, Солтонский, р-н, Стер...</td>\n",
       "      <td>[0, 0, 0, 2, 2, 3, 3, 1, 1, 4, 4, 0, 0, 0, 0, ...</td>\n",
       "      <td>train</td>\n",
       "    </tr>\n",
       "  </tbody>\n",
       "</table>\n",
       "</div>"
      ],
      "text/plain": [
       "                                              tokens  \\\n",
       "0  [Семиэтажное, здание, находилось, по, адресу:,...   \n",
       "1  [Проживает, по, адресу:, Нагорское, Деревня, д...   \n",
       "2  [Проживает, по, адресу:, Боханский, р-н, Тойси...   \n",
       "3  [Выставочный, зал, находится, по, адресу, Чишм...   \n",
       "4  [Проживает, по, адресу:, Солтонский, р-н, Стер...   \n",
       "\n",
       "                                            ner_tags   mode  \n",
       "0  [0, 0, 0, 0, 0, 4, 4, 1, 1, 2, 2, 3, 3, 0, 0, ...  train  \n",
       "1      [0, 0, 0, 4, 4, 6, 6, 7, 7, 5, 5, 2, 2, 1, 1]   test  \n",
       "2  [0, 0, 0, 2, 2, 3, 3, 6, 6, 5, 5, 7, 7, 1, 1, ...    val  \n",
       "3            [0, 0, 0, 0, 0, 2, 2, 1, 1, 3, 3, 4, 4]  train  \n",
       "4  [0, 0, 0, 2, 2, 3, 3, 1, 1, 4, 4, 0, 0, 0, 0, ...  train  "
      ]
     },
     "execution_count": 12,
     "metadata": {},
     "output_type": "execute_result"
    }
   ],
   "source": [
    "adr_dataset['mode'] = np.random.choice(['train', \"val\", \"test\"], size = adr_dataset.shape[0], p = [0.7, 0.15, 0.15])\n",
    "adr_dataset['ner_tags'] = adr_dataset['ner_tags'].map(lambda x: [i for i in x])\n",
    "adr_dataset.head()"
   ]
  },
  {
   "cell_type": "code",
   "execution_count": 13,
   "metadata": {},
   "outputs": [
    {
     "data": {
      "text/plain": [
       "DatasetDict({\n",
       "    train: Dataset({\n",
       "        features: ['tokens', 'ner_tags', 'mode', '__index_level_0__'],\n",
       "        num_rows: 838\n",
       "    })\n",
       "    validation: Dataset({\n",
       "        features: ['tokens', 'ner_tags', 'mode', '__index_level_0__'],\n",
       "        num_rows: 166\n",
       "    })\n",
       "    test: Dataset({\n",
       "        features: ['tokens', 'ner_tags', 'mode', '__index_level_0__'],\n",
       "        num_rows: 196\n",
       "    })\n",
       "})"
      ]
     },
     "execution_count": 13,
     "metadata": {},
     "output_type": "execute_result"
    }
   ],
   "source": [
    "trdf = Dataset.from_pandas(adr_dataset[adr_dataset['mode'] == \"train\"])\n",
    "vldf = Dataset.from_pandas(adr_dataset[adr_dataset['mode'] == \"val\"])\n",
    "tedf = Dataset.from_pandas(adr_dataset[adr_dataset['mode'] == \"test\"])\n",
    "\n",
    "dataset_adr = DatasetDict({\"train\": trdf, \"validation\": vldf, \"test\": tedf})\n",
    "dataset_adr"
   ]
  },
  {
   "cell_type": "code",
   "execution_count": 14,
   "metadata": {},
   "outputs": [
    {
     "data": {
      "application/vnd.jupyter.widget-view+json": {
       "model_id": "b4b7851c633b45d5b6b9d50a916e57e8",
       "version_major": 2,
       "version_minor": 0
      },
      "text/plain": [
       "Map:   0%|          | 0/838 [00:00<?, ? examples/s]"
      ]
     },
     "metadata": {},
     "output_type": "display_data"
    },
    {
     "name": "stderr",
     "output_type": "stream",
     "text": [
      "Asking to truncate to max_length but no maximum length is provided and the model has no predefined maximum length. Default to no truncation.\n"
     ]
    },
    {
     "name": "stdout",
     "output_type": "stream",
     "text": [
      "[0, 0, 0, 4, 4, 1, 1, 3, 3, 2, 2]\n"
     ]
    },
    {
     "data": {
      "application/vnd.jupyter.widget-view+json": {
       "model_id": "e9ca34b822014c43be3bfd43cdd64c98",
       "version_major": 2,
       "version_minor": 0
      },
      "text/plain": [
       "Map:   0%|          | 0/166 [00:00<?, ? examples/s]"
      ]
     },
     "metadata": {},
     "output_type": "display_data"
    },
    {
     "name": "stdout",
     "output_type": "stream",
     "text": [
      "[0, 0, 3, 3, 5, 5, 6, 6, 1, 1, 2, 2, 4, 4, 7, 7, 0, 0, 0, 0, 0, 0]\n"
     ]
    },
    {
     "data": {
      "application/vnd.jupyter.widget-view+json": {
       "model_id": "aa8291f26375478088aebb39d43846f4",
       "version_major": 2,
       "version_minor": 0
      },
      "text/plain": [
       "Map:   0%|          | 0/196 [00:00<?, ? examples/s]"
      ]
     },
     "metadata": {},
     "output_type": "display_data"
    },
    {
     "name": "stdout",
     "output_type": "stream",
     "text": [
      "[0, 0, 0, 1, 1, 4, 4, 3, 3, 2, 2]\n"
     ]
    }
   ],
   "source": [
    "tokenized_datasets = dataset_adr.map(\n",
    "    tokenize_and_align_labels,\n",
    "    batched=True,\n",
    "    remove_columns=dataset_adr[\"train\"].column_names\n",
    ")"
   ]
  },
  {
   "cell_type": "code",
   "execution_count": 15,
   "metadata": {},
   "outputs": [
    {
     "name": "stderr",
     "output_type": "stream",
     "text": [
      "You're using a RobertaTokenizerFast tokenizer. Please note that with a fast tokenizer, using the `__call__` method is faster than using a method to encode the text followed by a call to the `pad` method to get a padded encoding.\n"
     ]
    },
    {
     "data": {
      "text/plain": [
       "tensor([[-100,    0,    0,    0,    0,    0,    0,    0,    0,    0,    4,    4,\n",
       "            4,    4,    1,    1,    1,    1,    1,    1,    2,    2,    2,    2,\n",
       "            2,    2,    3,    3,    3,    3,    3,    0,    0,    0,    0,    0,\n",
       "            0,    0, -100, -100, -100, -100, -100, -100, -100, -100, -100, -100,\n",
       "         -100, -100, -100, -100, -100, -100, -100, -100, -100, -100, -100, -100,\n",
       "         -100, -100, -100, -100, -100, -100, -100, -100],\n",
       "        [-100,    0,    0,    0,    0,    0,    0,    0,    2,    2,    2,    2,\n",
       "            2,    2,    1,    1,    1,    3,    3,    3,    3,    3,    3,    4,\n",
       "            4,    4, -100, -100, -100, -100, -100, -100, -100, -100, -100, -100,\n",
       "         -100, -100, -100, -100, -100, -100, -100, -100, -100, -100, -100, -100,\n",
       "         -100, -100, -100, -100, -100, -100, -100, -100, -100, -100, -100, -100,\n",
       "         -100, -100, -100, -100, -100, -100, -100, -100],\n",
       "        [-100,    0,    0,    0,    0,    0,    0,    2,    2,    2,    2,    2,\n",
       "            2,    3,    3,    3,    3,    3,    1,    1,    1,    1,    4,    4,\n",
       "            4,    4,    0,    0,    0,    0,    3,    3,    3,    3,    3,    7,\n",
       "            7,    7,    2,    2,    2,    2,    2,    2,    2,    2,    6,    6,\n",
       "            6,    6,    6,    4,    4,    4,    4,    4,    4,    4,    4,    4,\n",
       "            4,    4,    5,    5,    5,    5,    5, -100],\n",
       "        [-100,    0,    0,    0,    0,    0,    0,    1,    1,    1,    1,    2,\n",
       "            2,    2,    2,    2,    2,    3,    3,    3,    3,    3,    3,    3,\n",
       "            4,    4,    4,    4,    4,    4,    4,    4,    4,    4,    4,    4,\n",
       "            4,    4,    4,    4,    4,    4, -100, -100, -100, -100, -100, -100,\n",
       "         -100, -100, -100, -100, -100, -100, -100, -100, -100, -100, -100, -100,\n",
       "         -100, -100, -100, -100, -100, -100, -100, -100],\n",
       "        [-100,    0,    0,    0,    0,    0,    0,    4,    4,    4,    4,    1,\n",
       "            1,    1,    3,    3,    3,    3,    2,    2,    2,    2,    2, -100,\n",
       "         -100, -100, -100, -100, -100, -100, -100, -100, -100, -100, -100, -100,\n",
       "         -100, -100, -100, -100, -100, -100, -100, -100, -100, -100, -100, -100,\n",
       "         -100, -100, -100, -100, -100, -100, -100, -100, -100, -100, -100, -100,\n",
       "         -100, -100, -100, -100, -100, -100, -100, -100]])"
      ]
     },
     "execution_count": 15,
     "metadata": {},
     "output_type": "execute_result"
    }
   ],
   "source": [
    "data_collator = DataCollatorForTokenClassification(tokenizer=tokenizer_NER)\n",
    "batch = data_collator([tokenized_datasets[\"train\"][i] for i in range(5)])\n",
    "batch[\"labels\"]"
   ]
  },
  {
   "cell_type": "code",
   "execution_count": 16,
   "metadata": {},
   "outputs": [],
   "source": [
    "metric = evaluate.load(\"seqeval\")"
   ]
  },
  {
   "cell_type": "code",
   "execution_count": 17,
   "metadata": {},
   "outputs": [],
   "source": [
    "train_dataloader = DataLoader(\n",
    "    tokenized_datasets[\"train\"],\n",
    "    shuffle=True,\n",
    "    collate_fn=data_collator,\n",
    "    batch_size=4,\n",
    ")\n",
    "\n",
    "eval_dataloader = DataLoader(\n",
    "    tokenized_datasets[\"validation\"], \n",
    "    collate_fn=data_collator, \n",
    "    batch_size=8\n",
    ")"
   ]
  },
  {
   "cell_type": "code",
   "execution_count": 18,
   "metadata": {},
   "outputs": [],
   "source": [
    "optimizer = AdamW(model_NER_adr.parameters(), lr=5e-05, betas=(0.9,0.999), eps=1e-08)"
   ]
  },
  {
   "cell_type": "code",
   "execution_count": 19,
   "metadata": {},
   "outputs": [],
   "source": [
    "# accelerator = Accelerator(cpu=True)\n",
    "accelerator = Accelerator()\n",
    "\n",
    "model, optimizer, train_dataloader, eval_dataloader = accelerator.prepare(\n",
    "    model_NER_adr, optimizer, train_dataloader, eval_dataloader\n",
    ")"
   ]
  },
  {
   "cell_type": "code",
   "execution_count": 20,
   "metadata": {},
   "outputs": [
    {
     "data": {
      "text/plain": [
       "device(type='cuda')"
      ]
     },
     "execution_count": 20,
     "metadata": {},
     "output_type": "execute_result"
    }
   ],
   "source": [
    "train_dataloader.device"
   ]
  },
  {
   "cell_type": "code",
   "execution_count": 21,
   "metadata": {},
   "outputs": [
    {
     "data": {
      "text/plain": [
       "device(type='cuda', index=0)"
      ]
     },
     "execution_count": 21,
     "metadata": {},
     "output_type": "execute_result"
    }
   ],
   "source": [
    "model.device"
   ]
  },
  {
   "cell_type": "code",
   "execution_count": 22,
   "metadata": {},
   "outputs": [],
   "source": [
    "num_train_epochs = 10\n",
    "num_update_steps_per_epoch = len(train_dataloader)\n",
    "num_training_steps = num_train_epochs * num_update_steps_per_epoch\n",
    "\n",
    "cos_scheduler = get_scheduler(\n",
    "    \"cosine\",\n",
    "    optimizer=optimizer,\n",
    "    num_warmup_steps=0.1,\n",
    "    num_training_steps=num_training_steps,\n",
    ")"
   ]
  },
  {
   "cell_type": "code",
   "execution_count": 23,
   "metadata": {},
   "outputs": [
    {
     "data": {
      "text/plain": [
       "'model/test/adr/bert-finetuned-ner-ai-forever-ruRoberta-large'"
      ]
     },
     "execution_count": 23,
     "metadata": {},
     "output_type": "execute_result"
    }
   ],
   "source": [
    "output_dir = \"model/test/adr/bert-finetuned-ner-\" + path_to_model.replace('/', \"-\")\n",
    "output_dir"
   ]
  },
  {
   "cell_type": "code",
   "execution_count": 24,
   "metadata": {},
   "outputs": [
    {
     "data": {
      "application/vnd.jupyter.widget-view+json": {
       "model_id": "ab78662121fc43b2b8c80d8b72ac90b0",
       "version_major": 2,
       "version_minor": 0
      },
      "text/plain": [
       "  0%|          | 0/2100 [00:00<?, ?it/s]"
      ]
     },
     "metadata": {},
     "output_type": "display_data"
    },
    {
     "name": "stderr",
     "output_type": "stream",
     "text": [
      "c:\\Users\\Artem Kondrashov\\AppData\\Local\\Programs\\Python\\Python311\\Lib\\site-packages\\seqeval\\metrics\\sequence_labeling.py:171: UserWarning: LOC-DIST seems not to be NE tag.\n",
      "  warnings.warn('{} seems not to be NE tag.'.format(chunk))\n",
      "c:\\Users\\Artem Kondrashov\\AppData\\Local\\Programs\\Python\\Python311\\Lib\\site-packages\\seqeval\\metrics\\sequence_labeling.py:171: UserWarning: LOC-SETL seems not to be NE tag.\n",
      "  warnings.warn('{} seems not to be NE tag.'.format(chunk))\n",
      "c:\\Users\\Artem Kondrashov\\AppData\\Local\\Programs\\Python\\Python311\\Lib\\site-packages\\seqeval\\metrics\\sequence_labeling.py:171: UserWarning: LOC-HOUS seems not to be NE tag.\n",
      "  warnings.warn('{} seems not to be NE tag.'.format(chunk))\n",
      "c:\\Users\\Artem Kondrashov\\AppData\\Local\\Programs\\Python\\Python311\\Lib\\site-packages\\seqeval\\metrics\\sequence_labeling.py:171: UserWarning: LOC-STRT seems not to be NE tag.\n",
      "  warnings.warn('{} seems not to be NE tag.'.format(chunk))\n",
      "c:\\Users\\Artem Kondrashov\\AppData\\Local\\Programs\\Python\\Python311\\Lib\\site-packages\\seqeval\\metrics\\sequence_labeling.py:171: UserWarning: LOC-FLAT seems not to be NE tag.\n",
      "  warnings.warn('{} seems not to be NE tag.'.format(chunk))\n",
      "c:\\Users\\Artem Kondrashov\\AppData\\Local\\Programs\\Python\\Python311\\Lib\\site-packages\\seqeval\\metrics\\sequence_labeling.py:171: UserWarning: LOC-CDIST seems not to be NE tag.\n",
      "  warnings.warn('{} seems not to be NE tag.'.format(chunk))\n",
      "c:\\Users\\Artem Kondrashov\\AppData\\Local\\Programs\\Python\\Python311\\Lib\\site-packages\\seqeval\\metrics\\sequence_labeling.py:171: UserWarning: LOC-REG seems not to be NE tag.\n",
      "  warnings.warn('{} seems not to be NE tag.'.format(chunk))\n"
     ]
    },
    {
     "name": "stdout",
     "output_type": "stream",
     "text": [
      "epoch 0: {'precision': 0.8981255093724532, 'recall': 0.8711462450592885, 'f1': 0.8844301765650079, 'accuracy': 0.9686420069115577}\n",
      "epoch 1: {'precision': 0.9779951100244498, 'recall': 0.9685230024213075, 'f1': 0.97323600973236, 'accuracy': 0.9888647126583898}\n",
      "epoch 2: {'precision': 0.9861450692746536, 'recall': 0.983739837398374, 'f1': 0.9849409849409848, 'accuracy': 0.9932164341482145}\n",
      "epoch 3: {'precision': 0.9812550937245313, 'recall': 0.9756888168557536, 'f1': 0.9784640390085332, 'accuracy': 0.9934724177652631}\n",
      "epoch 4: {'precision': 0.9861450692746536, 'recall': 0.979757085020243, 'f1': 0.9829406986190089, 'accuracy': 0.9950083194675541}\n",
      "epoch 5: {'precision': 0.9853300733496333, 'recall': 0.9805352798053528, 'f1': 0.9829268292682928, 'accuracy': 0.9947523358505056}\n",
      "epoch 6: {'precision': 0.9918500407497962, 'recall': 0.991042345276873, 'f1': 0.9914460285132383, 'accuracy': 0.9971841802124664}\n",
      "epoch 7: {'precision': 0.9902200488997555, 'recall': 0.9878048780487805, 'f1': 0.9890109890109889, 'accuracy': 0.9969281965954179}\n",
      "epoch 8: {'precision': 0.9926650366748166, 'recall': 0.99185667752443, 'f1': 0.9922606924643584, 'accuracy': 0.9973121720209907}\n",
      "epoch 9: {'precision': 0.9926650366748166, 'recall': 0.99185667752443, 'f1': 0.9922606924643584, 'accuracy': 0.9973121720209907}\n"
     ]
    }
   ],
   "source": [
    "progress_bar = tqdm(range(num_training_steps))\n",
    "metrics_df = {'epoch': list(range(1, num_train_epochs+1)),\n",
    "           \"precision\": [], \n",
    "           \"recall\": [], \n",
    "           \"f1\": [], \n",
    "           \"accuracy\": []}\n",
    "\n",
    "for epoch in range(num_train_epochs):\n",
    "    # Training\n",
    "\n",
    "    model.train()\n",
    "    \n",
    "    for i, batch in enumerate(train_dataloader):\n",
    "        \n",
    "        outputs = model(**batch)\n",
    "        loss = outputs.loss\n",
    "        accelerator.backward(loss)\n",
    "\n",
    "        optimizer.step()\n",
    "        cos_scheduler.step()\n",
    "        optimizer.zero_grad()\n",
    "        progress_bar.update(1)\n",
    "\n",
    "    # Evaluation\n",
    "        \n",
    "    model.eval()\n",
    "    \n",
    "    for batch in eval_dataloader:\n",
    "\n",
    "        with torch.no_grad():\n",
    "            outputs = model(**batch)\n",
    "\n",
    "        predictions = outputs.logits.argmax(dim=-1)\n",
    "        labels = batch[\"labels\"]\n",
    "\n",
    "        # Necessary to pad predictions and labels for being gathered\n",
    "        predictions = accelerator.pad_across_processes(predictions, dim=1, pad_index=-100)\n",
    "        labels = accelerator.pad_across_processes(labels, dim=1, pad_index=-100)\n",
    "\n",
    "        predictions_gathered = accelerator.gather(predictions)\n",
    "        labels_gathered = accelerator.gather(labels)\n",
    "\n",
    "        true_predictions, true_labels = postprocess(predictions_gathered, labels_gathered, label_names)\n",
    "        metric.add_batch(predictions=true_predictions, references=true_labels)\n",
    "\n",
    "    results = metric.compute()\n",
    "    print(\n",
    "        f\"epoch {epoch}:\",\n",
    "        {\n",
    "            key: results[f\"overall_{key}\"]\n",
    "            for key in [\"precision\", \"recall\", \"f1\", \"accuracy\"]\n",
    "        },\n",
    "    )\n",
    "\n",
    "    for key in [\"precision\", \"recall\", \"f1\", \"accuracy\"]:\n",
    "        metrics_df[key].append(results[f\"overall_{key}\"])\n",
    "\n",
    "    # Save and upload\n",
    "    accelerator.wait_for_everyone()\n",
    "    unwrapped_model = accelerator.unwrap_model(model)\n",
    "    unwrapped_model.save_pretrained(output_dir, save_function=accelerator.save)\n",
    "    if accelerator.is_main_process:\n",
    "        tokenizer_NER.save_pretrained(output_dir)"
   ]
  },
  {
   "cell_type": "markdown",
   "metadata": {},
   "source": [
    "#### Тест"
   ]
  },
  {
   "cell_type": "code",
   "execution_count": 25,
   "metadata": {},
   "outputs": [
    {
     "name": "stdout",
     "output_type": "stream",
     "text": [
      "ai-forever/ruRoberta-large\n",
      "   epoch  precision    recall        f1  accuracy\n",
      "0      1   0.898126  0.871146  0.884430  0.968642\n",
      "1      2   0.977995  0.968523  0.973236  0.988865\n",
      "2      3   0.986145  0.983740  0.984941  0.993216\n",
      "3      4   0.981255  0.975689  0.978464  0.993472\n",
      "4      5   0.986145  0.979757  0.982941  0.995008\n",
      "5      6   0.985330  0.980535  0.982927  0.994752\n",
      "6      7   0.991850  0.991042  0.991446  0.997184\n",
      "7      8   0.990220  0.987805  0.989011  0.996928\n",
      "8      9   0.992665  0.991857  0.992261  0.997312\n",
      "9     10   0.992665  0.991857  0.992261  0.997312\n"
     ]
    },
    {
     "data": {
      "image/png": "[encoded data removed]",
      "text/plain": [
       "<Figure size 640x480 with 1 Axes>"
      ]
     },
     "metadata": {},
     "output_type": "display_data"
    }
   ],
   "source": [
    "print(path_to_model)\n",
    "\n",
    "metrics_df = pd.DataFrame(metrics_df)\n",
    "\n",
    "print(metrics_df)\n",
    "metrics_df.iloc[:, 1:].plot();\n",
    "\n",
    "metrics_df.to_csv(\"metrics_\"+path_to_model.replace(\"/\", \"-\")+\".csv\")"
   ]
  },
  {
   "cell_type": "code",
   "execution_count": 32,
   "metadata": {},
   "outputs": [
    {
     "name": "stdout",
     "output_type": "stream",
     "text": [
      "ai-forever/ruBert-large\n",
      "   epoch  precision    recall        f1  accuracy\n",
      "0      1   0.953545  0.925633  0.939382  0.977479\n",
      "1      2   0.947840  0.884411  0.915028  0.984142\n",
      "2      3   0.977995  0.963082  0.970481  0.990005\n",
      "3      4   0.969030  0.956557  0.962753  0.991471\n",
      "4      5   0.987775  0.982172  0.984965  0.995336\n",
      "5      6   0.991035  0.987815  0.989422  0.995602\n",
      "6      7   0.991035  0.987815  0.989422  0.996402\n",
      "7      8   0.991850  0.987024  0.989431  0.996269\n",
      "8      9   0.991850  0.987024  0.989431  0.996269\n",
      "9     10   0.991850  0.987024  0.989431  0.996269\n"
     ]
    },
    {
     "data": {
      "image/png": "[encoded data removed]",
      "text/plain": [
       "<Figure size 640x480 with 1 Axes>"
      ]
     },
     "metadata": {},
     "output_type": "display_data"
    }
   ],
   "source": [
    "print(path_to_model)\n",
    "\n",
    "metrics_df = pd.DataFrame(metrics_df)\n",
    "\n",
    "print(metrics_df)\n",
    "metrics_df.iloc[:, 1:].plot();\n",
    "\n",
    "metrics_df.to_csv(\"metrics_\"+path_to_model.replace(\"/\", \"-\")+\".csv\")"
   ]
  },
  {
   "cell_type": "code",
   "execution_count": 25,
   "metadata": {},
   "outputs": [
    {
     "name": "stdout",
     "output_type": "stream",
     "text": [
      "DeepPavlov/rubert-base-cased\n",
      "   epoch  precision    recall        f1  accuracy\n",
      "0      1   0.986960  0.983753  0.985354  0.992829\n",
      "1      2   0.982070  0.974131  0.978084  0.993155\n",
      "2      3   0.979625  0.972492  0.976045  0.991525\n",
      "3      4   0.986960  0.984553  0.985755  0.994133\n",
      "4      5   0.983700  0.977328  0.980504  0.991037\n",
      "5      6   0.991035  0.984615  0.987815  0.994296\n",
      "6      7   0.990220  0.985401  0.987805  0.994133\n",
      "7      8   0.990220  0.985401  0.987805  0.994133\n",
      "8      9   0.991850  0.987024  0.989431  0.994622\n",
      "9     10   0.991850  0.987024  0.989431  0.994459\n"
     ]
    },
    {
     "data": {
      "image/png": "[encoded data removed]",
      "text/plain": [
       "<Figure size 640x480 with 1 Axes>"
      ]
     },
     "metadata": {},
     "output_type": "display_data"
    }
   ],
   "source": [
    "print(path_to_model)\n",
    "\n",
    "metrics_df = pd.DataFrame(metrics_df)\n",
    "\n",
    "print(metrics_df)\n",
    "metrics_df.iloc[:, 1:].plot();\n",
    "\n",
    "metrics_df.to_csv(\"metrics_\"+path_to_model.replace(\"/\", \"-\")+\".csv\")"
   ]
  },
  {
   "cell_type": "code",
   "execution_count": 68,
   "metadata": {},
   "outputs": [
    {
     "data": {
      "image/png": "[encoded data removed]",
      "text/plain": [
       "<Figure size 640x480 with 1 Axes>"
      ]
     },
     "metadata": {},
     "output_type": "display_data"
    }
   ],
   "source": [
    "# print(path_to_model)\n",
    "\n",
    "# metrics_df = pd.DataFrame(metrics_df)\n",
    "\n",
    "# print(metrics_df)\n",
    "\n",
    "metrics_df = pd.read_csv(\"results/adr/metrics_ai-forever-ruBert-base.csv\")\n",
    "metrics_df.iloc[:, 2:].plot()\n",
    "plt.xlabel(\"Epoch\");\n",
    "\n",
    "# metrics_df.to_csv(\"metrics_\"+path_to_model.replace(\"/\", \"-\")+\".csv\")"
   ]
  },
  {
   "cell_type": "code",
   "execution_count": 80,
   "metadata": {},
   "outputs": [
    {
     "data": {
      "text/plain": [
       "Text(0.5, 1.0, 'Validation metrics for rubert-base-cased model')"
      ]
     },
     "execution_count": 80,
     "metadata": {},
     "output_type": "execute_result"
    },
    {
     "data": {
      "image/png": "[encoded data removed]",
      "text/plain": [
       "<Figure size 640x480 with 1 Axes>"
      ]
     },
     "metadata": {},
     "output_type": "display_data"
    }
   ],
   "source": [
    "mod = \"rubert-base-cased\"\n",
    "metrics_df = pd.read_csv(\"results/adr/metrics_DeepPavlov-\" + mod + \".csv\")\n",
    "metrics_df.iloc[:, 2:].plot()\n",
    "plt.xlabel(\"Epoch\")\n",
    "plt.title(\"Validation metrics for \" + mod + \" model\")"
   ]
  },
  {
   "cell_type": "markdown",
   "metadata": {},
   "source": [
    "Проверим, как хорошо работает наша модель."
   ]
  },
  {
   "cell_type": "code",
   "execution_count": 26,
   "metadata": {},
   "outputs": [],
   "source": [
    "# default\n",
    "# path_to_model_NER_addresses = \"model/stable/bert-finetuned-ner-addresses-accelerate-2/\" \n",
    "\n",
    "# ruBert-base\n",
    "# path_to_model_NER_addresses = \"model/test/adr/bert-finetuned-ner-ai-forever-ruBert-base/\" \n",
    "\n",
    "# ruBert-large\n",
    "# path_to_model_NER_addresses = \"model/test/adr/bert-finetuned-ner-ai-forever-ruBert-large/\" \n",
    "\n",
    "# ruRoBerta-large\n",
    "path_to_model_NER_addresses = \"model/test/adr/bert-finetuned-ner-ai-forever-ruRoberta-large/\" \n",
    "\n",
    "# deepPavlov cased ruBert-base\n",
    "# path_to_model_NER_addresses = \"model/test/adr/bert-finetuned-ner-DeepPavlov-rubert-base-cased/\" "
   ]
  },
  {
   "cell_type": "code",
   "execution_count": 27,
   "metadata": {},
   "outputs": [],
   "source": [
    "## NER для адресов\n",
    "label_names = [\"O\",\n",
    "               \"LOC-REG\", \n",
    "               \"LOC-DIST\", \n",
    "               \"LOC-SETL\", \n",
    "               \"LOC-CDIST\", \n",
    "               \"LOC-STRT\", \n",
    "               \"LOC-HOUS\", \n",
    "               \"LOC-FLAT\"]\n",
    "\n",
    "id2label = {i: label for i, label in enumerate(label_names)}\n",
    "label2id = {v: k for k, v in id2label.items()}\n",
    "\n",
    "model_NER_adr = AutoModelForTokenClassification.from_pretrained(path_to_model_NER_addresses,\n",
    "                                                               id2label=id2label,\n",
    "                                                               label2id=label2id)\n",
    "\n",
    "tokenizer_NER_adr = AutoTokenizer.from_pretrained(path_to_model_NER_addresses, use_fast=True)\n"
   ]
  },
  {
   "cell_type": "code",
   "execution_count": 28,
   "metadata": {},
   "outputs": [],
   "source": [
    "test_dataloader = DataLoader(\n",
    "    tokenized_datasets[\"test\"], \n",
    "    collate_fn=data_collator, \n",
    "    batch_size=1\n",
    ")"
   ]
  },
  {
   "cell_type": "code",
   "execution_count": 29,
   "metadata": {},
   "outputs": [],
   "source": [
    "accelerator = Accelerator()\n",
    "\n",
    "model_NER_adr, optimizer, train_dataloader, test_dataloader = accelerator.prepare(\n",
    "    model_NER_adr, optimizer, train_dataloader, test_dataloader\n",
    ")"
   ]
  },
  {
   "cell_type": "code",
   "execution_count": 30,
   "metadata": {},
   "outputs": [],
   "source": [
    "model_NER_adr.cpu()\n",
    "\n",
    "token_classifier = pipeline(\n",
    "    \"token-classification\", model=model_NER_adr, aggregation_strategy=\"simple\", tokenizer=tokenizer_NER_adr\n",
    ")"
   ]
  },
  {
   "cell_type": "code",
   "execution_count": 31,
   "metadata": {},
   "outputs": [
    {
     "name": "stderr",
     "output_type": "stream",
     "text": [
      "c:\\Users\\Artem Kondrashov\\AppData\\Local\\Programs\\Python\\Python311\\Lib\\site-packages\\seqeval\\metrics\\sequence_labeling.py:171: UserWarning: LOC-CDIST seems not to be NE tag.\n",
      "  warnings.warn('{} seems not to be NE tag.'.format(chunk))\n",
      "c:\\Users\\Artem Kondrashov\\AppData\\Local\\Programs\\Python\\Python311\\Lib\\site-packages\\seqeval\\metrics\\sequence_labeling.py:171: UserWarning: LOC-HOUS seems not to be NE tag.\n",
      "  warnings.warn('{} seems not to be NE tag.'.format(chunk))\n",
      "c:\\Users\\Artem Kondrashov\\AppData\\Local\\Programs\\Python\\Python311\\Lib\\site-packages\\seqeval\\metrics\\sequence_labeling.py:171: UserWarning: LOC-FLAT seems not to be NE tag.\n",
      "  warnings.warn('{} seems not to be NE tag.'.format(chunk))\n",
      "c:\\Users\\Artem Kondrashov\\AppData\\Local\\Programs\\Python\\Python311\\Lib\\site-packages\\seqeval\\metrics\\sequence_labeling.py:171: UserWarning: LOC-STRT seems not to be NE tag.\n",
      "  warnings.warn('{} seems not to be NE tag.'.format(chunk))\n",
      "c:\\Users\\Artem Kondrashov\\AppData\\Local\\Programs\\Python\\Python311\\Lib\\site-packages\\seqeval\\metrics\\sequence_labeling.py:171: UserWarning: LOC-DIST seems not to be NE tag.\n",
      "  warnings.warn('{} seems not to be NE tag.'.format(chunk))\n",
      "c:\\Users\\Artem Kondrashov\\AppData\\Local\\Programs\\Python\\Python311\\Lib\\site-packages\\seqeval\\metrics\\sequence_labeling.py:171: UserWarning: LOC-REG seems not to be NE tag.\n",
      "  warnings.warn('{} seems not to be NE tag.'.format(chunk))\n",
      "c:\\Users\\Artem Kondrashov\\AppData\\Local\\Programs\\Python\\Python311\\Lib\\site-packages\\seqeval\\metrics\\sequence_labeling.py:171: UserWarning: LOC-SETL seems not to be NE tag.\n",
      "  warnings.warn('{} seems not to be NE tag.'.format(chunk))\n",
      "c:\\Users\\Artem Kondrashov\\AppData\\Local\\Programs\\Python\\Python311\\Lib\\site-packages\\seqeval\\metrics\\v1.py:57: UndefinedMetricWarning: Precision and F-score are ill-defined and being set to 0.0 in labels with no predicted samples. Use `zero_division` parameter to control this behavior.\n",
      "  _warn_prf(average, modifier, msg_start, len(result))\n",
      "c:\\Users\\Artem Kondrashov\\AppData\\Local\\Programs\\Python\\Python311\\Lib\\site-packages\\seqeval\\metrics\\v1.py:57: UndefinedMetricWarning: Recall and F-score are ill-defined and being set to 0.0 in labels with no true samples. Use `zero_division` parameter to control this behavior.\n",
      "  _warn_prf(average, modifier, msg_start, len(result))\n"
     ]
    },
    {
     "name": "stdout",
     "output_type": "stream",
     "text": [
      "precision    0.991456\n",
      "recall       0.989934\n",
      "f1           0.990610\n",
      "accuracy     0.996978\n",
      "dtype: float64\n"
     ]
    }
   ],
   "source": [
    "test_df = []\n",
    "\n",
    "for i, batch in enumerate(test_dataloader):\n",
    "\n",
    "    batch = batch.to(\"cpu\")\n",
    "\n",
    "    with torch.no_grad():\n",
    "        outputs = model_NER_adr(**batch)\n",
    "\n",
    "    predictions = outputs.logits.argmax(dim=-1)\n",
    "    labels = batch[\"labels\"]\n",
    "\n",
    "    # Necessary to pad predictions and labels for being gathered\n",
    "    predictions = accelerator.pad_across_processes(predictions, dim=1, pad_index=-100)\n",
    "    labels = accelerator.pad_across_processes(labels, dim=1, pad_index=-100)\n",
    "\n",
    "    predictions_gathered = accelerator.gather(predictions)\n",
    "    labels_gathered = accelerator.gather(labels)\n",
    "\n",
    "    # print(predictions_gathered)\n",
    "    # print(labels_gathered)\n",
    "\n",
    "    true_predictions, true_labels = postprocess(predictions_gathered, labels_gathered, label_names)\n",
    "\n",
    "    # print(true_labels)\n",
    "    # print(true_predictions)\n",
    "\n",
    "    metric.add_batch(predictions=true_predictions, references=true_labels)\n",
    "\n",
    "    results = metric.compute()\n",
    "    test_df.append([\n",
    "            results[f\"overall_{key}\"]\n",
    "            for key in [\"precision\", \"recall\", \"f1\", \"accuracy\"]\n",
    "        ]),\n",
    "    \n",
    "test_df = pd.DataFrame(test_df, columns = [\"precision\", \"recall\", \"f1\", \"accuracy\"])\n",
    "print(test_df.mean(axis=0))\n",
    "test_df.to_csv(\"test_df\"+path_to_model.replace(\"/\", \"-\")+\".csv\")"
   ]
  },
  {
   "cell_type": "code",
   "execution_count": null,
   "metadata": {},
   "outputs": [],
   "source": []
  },
  {
   "cell_type": "code",
   "execution_count": 30,
   "metadata": {},
   "outputs": [
    {
     "name": "stderr",
     "output_type": "stream",
     "text": [
      "Asking to truncate to max_length but no maximum length is provided and the model has no predefined maximum length. Default to no truncation.\n"
     ]
    },
    {
     "data": {
      "text/plain": [
       "[]"
      ]
     },
     "execution_count": 30,
     "metadata": {},
     "output_type": "execute_result"
    }
   ],
   "source": [
    "token_classifier(\"Калужская обл., г. Обнинск, ул. Университетская, д.50\")"
   ]
  },
  {
   "cell_type": "code",
   "execution_count": 32,
   "metadata": {},
   "outputs": [
    {
     "name": "stdout",
     "output_type": "stream",
     "text": [
      "[{'entity_group': 'REG', 'score': 0.9997234, 'word': 'Калужская обл.', 'start': 0, 'end': 14}]\n",
      "[{'entity_group': 'SETL', 'score': 0.73663354, 'word': 'г', 'start': 0, 'end': 1}, {'entity_group': 'STRT', 'score': 0.41053164, 'word': '.', 'start': 1, 'end': 2}, {'entity_group': 'SETL', 'score': 0.95855904, 'word': 'Обнинск', 'start': 3, 'end': 10}]\n",
      "[{'entity_group': 'STRT', 'score': 0.9989543, 'word': 'ул. Университетская', 'start': 0, 'end': 19}]\n",
      "[{'entity_group': 'HOUS', 'score': 0.9997006, 'word': 'д. 50', 'start': 0, 'end': 4}]\n"
     ]
    },
    {
     "data": {
      "text/plain": [
       "[None, None, None, None]"
      ]
     },
     "execution_count": 32,
     "metadata": {},
     "output_type": "execute_result"
    }
   ],
   "source": [
    "[print(i) for i in token_classifier((\"Калужская обл., г. Обнинск, ул. Университетская, д.50\").split(\", \"))]"
   ]
  },
  {
   "cell_type": "code",
   "execution_count": 33,
   "metadata": {},
   "outputs": [
    {
     "name": "stdout",
     "output_type": "stream",
     "text": [
      "{'entity_group': 'REG', 'score': 0.9971886, 'word': 'Республика Башкортостан,', 'start': 21, 'end': 45}\n",
      "{'entity_group': 'SETL', 'score': 0.7373716, 'word': 'г', 'start': 46, 'end': 47}\n",
      "{'entity_group': 'STRT', 'score': 0.38368496, 'word': '.', 'start': 47, 'end': 48}\n",
      "{'entity_group': 'DIST', 'score': 0.8964835, 'word': 'Салават, б', 'start': 49, 'end': 59}\n",
      "{'entity_group': 'STRT', 'score': 0.8866899, 'word': '- р Космонавтов,', 'start': 59, 'end': 74}\n",
      "{'entity_group': 'HOUS', 'score': 0.9997664, 'word': 'д. 14', 'start': 75, 'end': 80}\n",
      "{'entity_group': 'FLAT', 'score': 0.92317975, 'word': ', кв. 67', 'start': 80, 'end': 88}\n"
     ]
    },
    {
     "data": {
      "text/plain": [
       "[None, None, None, None, None, None, None]"
      ]
     },
     "execution_count": 33,
     "metadata": {},
     "output_type": "execute_result"
    }
   ],
   "source": [
    "[print(i) for i in token_classifier((\"Проживала по адресу: Республика Башкортостан, г. Салават, б-р Космонавтов, д. 14, кв. 67\"))]"
   ]
  },
  {
   "cell_type": "code",
   "execution_count": 34,
   "metadata": {},
   "outputs": [
    {
     "name": "stdout",
     "output_type": "stream",
     "text": [
      "[{'entity_group': 'REG', 'score': 0.9997072, 'word': 'Республика Башкортостан', 'start': 21, 'end': 44}]\n",
      "[{'entity_group': 'STRT', 'score': 0.46289897, 'word': 'г.', 'start': 0, 'end': 2}, {'entity_group': 'CDIST', 'score': 0.75738543, 'word': 'Салават', 'start': 3, 'end': 10}]\n",
      "[{'entity_group': 'STRT', 'score': 0.86801785, 'word': 'б - р Космонавтов', 'start': 0, 'end': 15}]\n",
      "[{'entity_group': 'HOUS', 'score': 0.99971056, 'word': 'д. 14', 'start': 0, 'end': 5}]\n",
      "[{'entity_group': 'FLAT', 'score': 0.99972516, 'word': 'кв. 67', 'start': 0, 'end': 6}]\n"
     ]
    },
    {
     "data": {
      "text/plain": [
       "[None, None, None, None, None]"
      ]
     },
     "execution_count": 34,
     "metadata": {},
     "output_type": "execute_result"
    }
   ],
   "source": [
    "[print(i) for i in token_classifier((\"Проживала по адресу: Республика Башкортостан, г. Салават, б-р Космонавтов, д. 14, кв. 67\").split(\", \"))]"
   ]
  },
  {
   "cell_type": "code",
   "execution_count": 35,
   "metadata": {},
   "outputs": [
    {
     "name": "stdout",
     "output_type": "stream",
     "text": [
      "[{'entity_group': 'REG', 'score': 0.99976397, 'word': 'Башкирской АССР', 'start': 0, 'end': 15}]\n",
      "[{'entity_group': 'STRT', 'score': 0.6688737, 'word': 'г. Уфа', 'start': 0, 'end': 6}]\n",
      "[{'entity_group': 'STRT', 'score': 0.9988168, 'word': 'ул. Космонавтов', 'start': 0, 'end': 15}]\n",
      "[{'entity_group': 'HOUS', 'score': 0.9997178, 'word': 'д. 1', 'start': 0, 'end': 4}]\n"
     ]
    },
    {
     "data": {
      "text/plain": [
       "[None, None, None, None]"
      ]
     },
     "execution_count": 35,
     "metadata": {},
     "output_type": "execute_result"
    }
   ],
   "source": [
    "[print(i) for i in token_classifier((\"Башкирской АССР, г. Уфа, ул. Космонавтов, д. 1\").split(\", \"))]"
   ]
  },
  {
   "cell_type": "code",
   "execution_count": 36,
   "metadata": {},
   "outputs": [
    {
     "name": "stdout",
     "output_type": "stream",
     "text": [
      "[{'entity_group': 'REG', 'score': 0.9997234, 'word': 'Калужская обл.', 'start': 0, 'end': 14}]\n",
      "[{'entity_group': 'SETL', 'score': 0.73663354, 'word': 'г', 'start': 0, 'end': 1}, {'entity_group': 'STRT', 'score': 0.41053164, 'word': '.', 'start': 1, 'end': 2}, {'entity_group': 'SETL', 'score': 0.95855904, 'word': 'Обнинск', 'start': 3, 'end': 10}]\n",
      "[{'entity_group': 'STRT', 'score': 0.9985538, 'word': 'ул. Аксёнова', 'start': 0, 'end': 12}]\n",
      "[{'entity_group': 'HOUS', 'score': 0.9996826, 'word': 'д. 33', 'start': 0, 'end': 5}]\n",
      "[{'entity_group': 'FLAT', 'score': 0.99968165, 'word': 'кв. 21', 'start': 0, 'end': 5}]\n",
      "[{'entity_group': 'SETL', 'score': 0.89095575, 'word': 'г. Воскресенск', 'start': 11, 'end': 25}, {'entity_group': 'REG', 'score': 0.9858875, 'word': 'Московской обл.', 'start': 26, 'end': 41}]\n"
     ]
    },
    {
     "data": {
      "text/plain": [
       "[None, None, None, None, None, None]"
      ]
     },
     "execution_count": 36,
     "metadata": {},
     "output_type": "execute_result"
    }
   ],
   "source": [
    "[print(i) for i in \\\n",
    " token_classifier((\"Калужская обл., г. Обнинск, ул. Аксёнова, д. 33, кв.21, прибыла из г. Воскресенск Московской обл. в 1990 г\").split(\", \"))]"
   ]
  },
  {
   "cell_type": "code",
   "execution_count": 37,
   "metadata": {},
   "outputs": [
    {
     "name": "stdout",
     "output_type": "stream",
     "text": [
      "[{'entity_group': 'STRT', 'score': 0.39412993, 'word': 'г.', 'start': 0, 'end': 2}, {'entity_group': 'REG', 'score': 0.88987494, 'word': 'Москва', 'start': 3, 'end': 9}]\n",
      "[{'entity_group': 'STRT', 'score': 0.9979291, 'word': 'ул.', 'start': 0, 'end': 3}, {'entity_group': 'DIST', 'score': 0.74331725, 'word': 'Новочерёмушкин', 'start': 4, 'end': 18}, {'entity_group': 'STRT', 'score': 0.9628166, 'word': '##ская', 'start': 18, 'end': 22}]\n",
      "[{'entity_group': 'HOUS', 'score': 0.99969226, 'word': 'д. 27', 'start': 0, 'end': 5}]\n",
      "[{'entity_group': 'FLAT', 'score': 0.9997131, 'word': 'кв. 154', 'start': 0, 'end': 7}]\n",
      "[{'entity_group': 'SETL', 'score': 0.986387, 'word': 'г. Обнинска', 'start': 10, 'end': 21}, {'entity_group': 'REG', 'score': 0.99979645, 'word': 'Калужской обл.', 'start': 22, 'end': 36}]\n"
     ]
    },
    {
     "data": {
      "text/plain": [
       "[None, None, None, None, None]"
      ]
     },
     "execution_count": 37,
     "metadata": {},
     "output_type": "execute_result"
    }
   ],
   "source": [
    "[print(i) for i in \\\n",
    " token_classifier((\"г. Москва, ул. Новочерёмушкинская, д. 27, кв. 154, прибыл из г. Обнинска Калужской обл. в 2020 г.\").split(\", \"))]"
   ]
  },
  {
   "cell_type": "code",
   "execution_count": 38,
   "metadata": {},
   "outputs": [
    {
     "name": "stdout",
     "output_type": "stream",
     "text": [
      "{'entity_group': 'STRT', 'score': 0.38974646, 'word': '.', 'start': 1, 'end': 2}\n",
      "{'entity_group': 'REG', 'score': 0.9085353, 'word': 'Москва', 'start': 3, 'end': 9}\n",
      "{'entity_group': 'STRT', 'score': 0.7916319, 'word': ', ул. Новоч', 'start': 9, 'end': 20}\n",
      "{'entity_group': 'DIST', 'score': 0.8571311, 'word': '##ерёму', 'start': 20, 'end': 25}\n",
      "{'entity_group': 'STRT', 'score': 0.8755854, 'word': '##шкинская,', 'start': 25, 'end': 34}\n",
      "{'entity_group': 'HOUS', 'score': 0.99972194, 'word': 'д. 27', 'start': 35, 'end': 40}\n",
      "{'entity_group': 'FLAT', 'score': 0.9725791, 'word': ', кв. 154', 'start': 40, 'end': 49}\n",
      "{'entity_group': 'SETL', 'score': 0.99088717, 'word': 'г. Обнинска', 'start': 61, 'end': 72}\n",
      "{'entity_group': 'REG', 'score': 0.8296245, 'word': 'Калужской обл.', 'start': 73, 'end': 87}\n"
     ]
    },
    {
     "data": {
      "text/plain": [
       "[None, None, None, None, None, None, None, None, None]"
      ]
     },
     "execution_count": 38,
     "metadata": {},
     "output_type": "execute_result"
    }
   ],
   "source": [
    "[print(i) for i in token_classifier((\"г. Москва, ул. Новочерёмушкинская, д. 27, кв. 154, прибыл из г. Обнинска Калужской обл. в 2020 г.\"))]"
   ]
  },
  {
   "cell_type": "code",
   "execution_count": 39,
   "metadata": {},
   "outputs": [],
   "source": [
    "def address_reconstruct(address: str) -> str:\n",
    "\n",
    "    \"\"\"\n",
    "    Функция для исправления формата адреса в формат Регион, район, город/поселок, улица, дом, квартира \n",
    "\n",
    "    Параметры:\n",
    "    address : str\n",
    "        Строка, содержащая адрес\n",
    "\n",
    "    Возвращает:\n",
    "    string_out : str\n",
    "        Строка с адресом требуемого формата\n",
    "    \"\"\"\n",
    "\n",
    "    # создание словаря для сортировки элементов адреса\n",
    "    entities = [\"O\", \"REG\", \"DIST\", \"SETL\", \"CDIST\", \"STRT\", \"HOUS\", \"FLAT\"]\n",
    "    \n",
    "    sort_dict = {key: elem for elem, key in list(enumerate(entities))}\n",
    "\n",
    "    adr_tokens = address.strip().split(\", \")\n",
    "\n",
    "    # print(adr_tokens)\n",
    "\n",
    "    NER_output = list(token_classifier(adr_tokens))\n",
    "\n",
    "    addresses = [[]]\n",
    "    adr_entities = [[]]\n",
    "    i = 0\n",
    "\n",
    "    for token, elem in zip(adr_tokens, NER_output):\n",
    "\n",
    "        if len(elem) > 1:\n",
    "\n",
    "            if elem[0][\"start\"] > 0:\n",
    "\n",
    "                i += 1\n",
    "                addresses.append([token[:elem[0][\"start\"]]])\n",
    "                adr_entities.append([\"O\"])\n",
    "\n",
    "            for subelem in elem:\n",
    "\n",
    "                addresses[i].append(subelem[\"word\"])\n",
    "                adr_entities[i].append(subelem[\"entity_group\"])\n",
    "\n",
    "            if elem[-1][\"end\"] < len(token)-1:\n",
    "\n",
    "                addresses[i].append(token[elem[-1][\"end\"]:])\n",
    "                adr_entities[i].append(\"O\")\n",
    "\n",
    "        else:\n",
    "            addresses[i].append(token)\n",
    "            adr_entities[i].append(elem[0][\"entity_group\"])\n",
    "\n",
    "    # print(addresses)\n",
    "    # print(adr_entities)\n",
    "\n",
    "    final_list = []\n",
    "\n",
    "    for adr_lst, entity in zip(addresses, adr_entities):      \n",
    "\n",
    "        # print(\"tokens:\", adr_lst)\n",
    "        # print(\"entities:\", entity)    \n",
    "\n",
    "        if entity[0] == \"O\":\n",
    "                idx_start = 1\n",
    "                left = adr_lst[0]\n",
    "        else:\n",
    "                idx_start = 0\n",
    "                left = \"\"\n",
    "\n",
    "        if entity[-1] == \"O\":\n",
    "                idx_end = len(entity) - 1\n",
    "                right = adr_lst[-1]\n",
    "        else:\n",
    "                idx_end = len(entity)\n",
    "                right = \"\"\n",
    "\n",
    "        adr_sorted = [x for _, x in sorted(zip(entity[idx_start:idx_end], adr_lst[idx_start:idx_end]), \\\n",
    "                                            key = lambda pair: sort_dict[pair[0]])]\n",
    "\n",
    "        final_list.append(left + \", \".join(adr_sorted) + right)\n",
    "        \n",
    "        # print(final_list)\n",
    "\n",
    "    # # переформирование адреса\n",
    "    string_out = \", \".join(final_list)\n",
    "\n",
    "    return(string_out)"
   ]
  },
  {
   "cell_type": "code",
   "execution_count": 40,
   "metadata": {},
   "outputs": [
    {
     "data": {
      "text/plain": [
       "'Москва, Новочерёмушкин, ул., ##ская, г., д. 27, кв. 154, прибыл из Калужской обл., г. Обнинска в 2020 г.'"
      ]
     },
     "execution_count": 40,
     "metadata": {},
     "output_type": "execute_result"
    }
   ],
   "source": [
    "adr_text = \"ул. Новочерёмушкинская, д. 27, кв. 154, г. Москва, прибыл из г. Обнинска Калужской обл. в 2020 г.\"\n",
    "address_reconstruct(adr_text)"
   ]
  },
  {
   "cell_type": "code",
   "execution_count": 41,
   "metadata": {},
   "outputs": [
    {
     "data": {
      "text/plain": [
       "'Москва, Старокалужское ш., г., д. 62, стр. 1, корп. 4'"
      ]
     },
     "execution_count": 41,
     "metadata": {},
     "output_type": "execute_result"
    }
   ],
   "source": [
    "adr_text = \"г. Москва, Старокалужское ш., д. 62, корп. 4, стр. 1\"\n",
    "address_reconstruct(adr_text)"
   ]
  },
  {
   "cell_type": "code",
   "execution_count": 42,
   "metadata": {},
   "outputs": [
    {
     "data": {
      "text/plain": [
       "'Москва, г., ул. Ярцевская, д. 29, корп.2, кв. 147'"
      ]
     },
     "execution_count": 42,
     "metadata": {},
     "output_type": "execute_result"
    }
   ],
   "source": [
    "adr_text = \"г. Москва, ул. Ярцевская, д. 29, корп.2, кв. 147\"\n",
    "address_reconstruct(adr_text)"
   ]
  },
  {
   "cell_type": "code",
   "execution_count": 43,
   "metadata": {},
   "outputs": [
    {
     "data": {
      "text/plain": [
       "'Калужская обл., г, Обнинск, ул. Университетская, ., д.50'"
      ]
     },
     "execution_count": 43,
     "metadata": {},
     "output_type": "execute_result"
    }
   ],
   "source": [
    "address_reconstruct(\"ул. Университетская, д.50, г. Обнинск, Калужская обл.\")"
   ]
  },
  {
   "cell_type": "code",
   "execution_count": 44,
   "metadata": {},
   "outputs": [
    {
     "data": {
      "text/plain": [
       "'Москва, ул. Ярцевская, г., д. 29, корп.2, кв. 147'"
      ]
     },
     "execution_count": 44,
     "metadata": {},
     "output_type": "execute_result"
    }
   ],
   "source": [
    "address_reconstruct(\"ул. Ярцевская, д. 29, корп.2, кв. 147, г. Москва\")"
   ]
  },
  {
   "cell_type": "code",
   "execution_count": 45,
   "metadata": {},
   "outputs": [
    {
     "data": {
      "text/plain": [
       "'г. Хабаровск, Хабаровский край, Центральный р-н, ул. Гоголя, д. 42'"
      ]
     },
     "execution_count": 45,
     "metadata": {},
     "output_type": "execute_result"
    }
   ],
   "source": [
    "address_reconstruct(\"г. Хабаровск, Хабаровский край, Центральный р-н, ул. Гоголя, д. 42\")"
   ]
  },
  {
   "cell_type": "markdown",
   "metadata": {},
   "source": [
    "В целом, качество распознавания элементов адреса очень неплохое, однако местами встречаются ошибки, вроде распознавание районов города как районов региона. В целом такие ошибки проблематично выловить по двум причинам - в наборе данных элементы адреса специально перемешаны, поскольку целью использования модели является восстановление порядка адреса - сначала регион, потом район, населенный пункт, район населенного пункта, улица, дом, квартира. Пользователь при вводе данных в форму может менять порядок некоторых элементов.\n",
    "\n",
    "Решение - не использовать нейросеть, или же после получения вывода нейросети провести дополнительную обработку результата, однако подобное решение требует создания валидатора адреса, что в принципе убирает необходимость в нейросети."
   ]
  },
  {
   "cell_type": "code",
   "execution_count": null,
   "metadata": {},
   "outputs": [],
   "source": []
  }
 ],
 "metadata": {
  "kernelspec": {
   "display_name": "Python 3",
   "language": "python",
   "name": "python3"
  },
  "language_info": {
   "codemirror_mode": {
    "name": "ipython",
    "version": 3
   },
   "file_extension": ".py",
   "mimetype": "text/x-python",
   "name": "python",
   "nbconvert_exporter": "python",
   "pygments_lexer": "ipython3",
   "version": "3.11.4"
  }
 },
 "nbformat": 4,
 "nbformat_minor": 2
}
